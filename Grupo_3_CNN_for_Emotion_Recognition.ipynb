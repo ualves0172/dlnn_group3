{
  "cells": [
    {
      "cell_type": "markdown",
      "metadata": {
        "id": "VD5i1SUFzuYK"
      },
      "source": [
        "# 1.Necessary libraries"
      ]
    },
    {
      "cell_type": "code",
      "execution_count": 1,
      "metadata": {
        "colab": {
          "base_uri": "https://localhost:8080/"
        },
        "id": "E9OIE4sAemC0",
        "outputId": "bf77622a-53ef-4d7d-95a8-8a9a72d74794"
      },
      "outputs": [
        {
          "output_type": "stream",
          "name": "stdout",
          "text": [
            "Looking in indexes: https://pypi.org/simple, https://us-python.pkg.dev/colab-wheels/public/simple/\n",
            "Collecting split-folders\n",
            "  Downloading split_folders-0.5.1-py3-none-any.whl (8.4 kB)\n",
            "Installing collected packages: split-folders\n",
            "Successfully installed split-folders-0.5.1\n"
          ]
        }
      ],
      "source": [
        "# system libraries and data import:\n",
        "import os\n",
        "import time\n",
        "import random \n",
        "import zipfile\n",
        "import shutil\n",
        "from shutil import copyfile\n",
        "from google.colab import drive\n",
        "\n",
        "# Basic libraries for data science/Pretreatment:\n",
        "import numpy as np\n",
        "import pandas as pd\n",
        "\n",
        "# Graphics and image visualization:\n",
        "import matplotlib.pyplot as plt\n",
        "import matplotlib.image as mpimg\n",
        "\n",
        "#Split main dataset into train, test and val folders:\n",
        "!pip install split-folders\n",
        "import splitfolders\n",
        "\n",
        "# Image generator, import and preprocessing:\n",
        "import tensorflow as tf\n",
        "from tensorflow.keras.preprocessing import image_dataset_from_directory\n",
        "from tensorflow.keras.preprocessing.image import ImageDataGenerator\n",
        "from tensorflow.keras.utils import img_to_array, load_img\n",
        "from collections import Counter\n",
        "\n",
        "# models, parameters and evaluation metrics:\n",
        "from tensorflow.keras import Sequential, layers, initializers, regularizers, optimizers, metrics \n",
        "from tensorflow.keras.callbacks import EarlyStopping\n",
        "from keras.regularizers import l1\n",
        "from keras.regularizers import l2\n",
        "from tensorflow.keras.losses import CategoricalCrossentropy\n",
        "\n",
        "from tensorflow.keras.layers import Conv2D, MaxPooling2D, Flatten, Dense, Dropout, BatchNormalization\n",
        "\n",
        "from tensorflow.keras.metrics import CategoricalAccuracy, Precision, Recall, AUC\n",
        "from sklearn.metrics import confusion_matrix\n",
        "import seaborn as sns"
      ]
    },
    {
      "cell_type": "markdown",
      "metadata": {
        "id": "t6HCxvCk0uzY"
      },
      "source": [
        "# 2.Dataset import"
      ]
    },
    {
      "cell_type": "markdown",
      "metadata": {
        "id": "btbxmLQD0cBI"
      },
      "source": [
        "### Google drive connection"
      ]
    },
    {
      "cell_type": "code",
      "execution_count": 2,
      "metadata": {
        "colab": {
          "base_uri": "https://localhost:8080/"
        },
        "id": "SuY8V-GD0bY5",
        "outputId": "3ba80bc0-cb1f-463d-aae5-8af751e7beb9"
      },
      "outputs": [
        {
          "output_type": "stream",
          "name": "stdout",
          "text": [
            "Mounted at /content/drive\n"
          ]
        }
      ],
      "source": [
        "drive.mount('/content/drive')"
      ]
    },
    {
      "cell_type": "markdown",
      "source": [
        "### Back up code cells"
      ],
      "metadata": {
        "id": "44dRXpoTAM9U"
      }
    },
    {
      "cell_type": "markdown",
      "source": [
        "This cell was developed to delet \"dataset_splited\" folder."
      ],
      "metadata": {
        "id": "m0AmxO2DrCz4"
      }
    },
    {
      "cell_type": "code",
      "execution_count": null,
      "metadata": {
        "id": "QBRjGe2GDQpn"
      },
      "outputs": [],
      "source": [
        "#deletes \"dataset_splited\" folder.\n",
        "#shutil.rmtree(\"/content/dataset_splited\")"
      ]
    },
    {
      "cell_type": "markdown",
      "source": [
        "This cell was developed to be run just in case the oversampling and undersampling cells were run more than just one time. For more information read the txt. Requirements, notes section."
      ],
      "metadata": {
        "id": "SIz6Dp5yq1Eg"
      }
    },
    {
      "cell_type": "code",
      "execution_count": null,
      "metadata": {
        "id": "c-qpe2ZkDpwr"
      },
      "outputs": [],
      "source": [
        "#deletes \"balanced_training_folder\" folder.\n",
        "#shutil.rmtree(path + main_folder + balanced_training_folder) "
      ]
    },
    {
      "cell_type": "markdown",
      "metadata": {
        "id": "nwevERSelz1q"
      },
      "source": [
        "### Connection string + zip file extraction"
      ]
    },
    {
      "cell_type": "code",
      "execution_count": 4,
      "metadata": {
        "id": "aZzommHhZHIj"
      },
      "outputs": [],
      "source": [
        "# Set connection string\n",
        "path = \"/content/drive/MyDrive/Group 3 - CNN Sentiment analisys/\"\n",
        "\n",
        "# Transfer zip dataset to the current virtual machine\n",
        "copyfile(path + 'emotions_dataset.zip','dataset.zip')\n",
        "\n",
        "# Extract files\n",
        "zip_file = zipfile.ZipFile('dataset.zip')\n",
        "zip_file.extractall()\n",
        "zip_file.close()\n",
        "\n",
        "# Define the sub-folders\n",
        "path = \"/content/\"\n",
        "main_folder, angry_folder, disgust_folder, fear_folder, happy_folder, neutral_folder, sad_folder, surprise_folder = \"emotions_dataset/\", \"angry/\", \"disgust/\", \"fear/\", \"happy/\", \"neutral/\", \"sad/\",\"surprise/\""
      ]
    },
    {
      "cell_type": "markdown",
      "metadata": {
        "id": "TvCvl43VmBMn"
      },
      "source": [
        "### Split dataset: Training, Validation and Test folders"
      ]
    },
    {
      "cell_type": "code",
      "execution_count": null,
      "metadata": {
        "id": "aEK8fvEX7ya4",
        "colab": {
          "base_uri": "https://localhost:8080/"
        },
        "outputId": "aeeb5a8c-5c92-47b9-f3e9-d1dd3ed1d92b"
      },
      "outputs": [
        {
          "output_type": "stream",
          "name": "stderr",
          "text": [
            "Copying files: 2631 files [26:23,  1.64 files/s]"
          ]
        }
      ],
      "source": [
        "#Dataset splited in 70/20/10\n",
        "input_folder= \"/content/emotions_dataset\"\n",
        "\n",
        "splitfolders.ratio(input_folder, output=\"/content/drive/MyDrive/Group 3 - CNN Sentiment analisys/dataset_splited\",\n",
        "    seed=42, ratio=(.7, .2, .1), \n",
        "    group_prefix=None, move=False)"
      ]
    },
    {
      "cell_type": "markdown",
      "metadata": {
        "id": "IRUjCZk7V6iY"
      },
      "source": [
        "# 3.Dataset exploration"
      ]
    },
    {
      "cell_type": "markdown",
      "metadata": {
        "id": "zP9NTVTvaO8l"
      },
      "source": [
        "### 1st data check"
      ]
    },
    {
      "cell_type": "code",
      "execution_count": null,
      "metadata": {
        "id": "qjMuz58Iahks"
      },
      "outputs": [],
      "source": [
        "#Global variables\n",
        "\n",
        "path = \"/content/drive/MyDrive/Group 3 - CNN Sentiment analisys/\"\n",
        "main_folder=\"dataset_splited/\"\n",
        "training_folder=\"train/\"\n",
        "validation_folder=\"val/\"\n",
        "testing_folder=\"test/\"\n",
        "balanced_training_folder = \"train_balanced/\"\n",
        "class_labels = [\"angry\", \"disgust\", \"fear\", \"happy\", \"neutral\", \"sad\",\"surprise\"]"
      ]
    },
    {
      "cell_type": "code",
      "execution_count": null,
      "metadata": {
        "colab": {
          "base_uri": "https://localhost:8080/"
        },
        "id": "VnQ5QwgJZtA0",
        "outputId": "1c0bf05e-b2cd-4405-a9eb-b41707ee119d"
      },
      "outputs": [
        {
          "output_type": "stream",
          "name": "stdout",
          "text": [
            "train/ Nº of img of class angry : 3467\n",
            "train/ Nº of img of class disgust : 382\n",
            "train/ Nº of img of class fear : 3584\n",
            "train/ Nº of img of class happy : 6292\n",
            "train/ Nº of img of class neutral : 4338\n",
            "train/ Nº of img of class sad : 4253\n",
            "train/ Nº of img of class surprise : 2801\n",
            "test/ Nº of img of class angry : 496\n",
            "test/ Nº of img of class disgust : 56\n",
            "test/ Nº of img of class fear : 513\n",
            "test/ Nº of img of class happy : 900\n",
            "test/ Nº of img of class neutral : 621\n",
            "test/ Nº of img of class sad : 609\n",
            "test/ Nº of img of class surprise : 401\n",
            "val/ Nº of img of class angry : 990\n",
            "val/ Nº of img of class disgust : 109\n",
            "val/ Nº of img of class fear : 1024\n",
            "val/ Nº of img of class happy : 1797\n",
            "val/ Nº of img of class neutral : 1239\n",
            "val/ Nº of img of class sad : 1215\n",
            "val/ Nº of img of class surprise : 800\n"
          ]
        }
      ],
      "source": [
        "# Number of images per splited folders and class\n",
        "for split in [training_folder, testing_folder, validation_folder]:\n",
        "    for c in class_labels:\n",
        "        n_train_c = len(os.listdir(path + main_folder + split + f\"{c}\"))\n",
        "        print(f\"{split} Nº of img of class {c} : {n_train_c}\")"
      ]
    },
    {
      "cell_type": "markdown",
      "metadata": {
        "id": "pkw2iwI4atUO"
      },
      "source": [
        "### Visualization of data distribution"
      ]
    },
    {
      "cell_type": "code",
      "execution_count": null,
      "metadata": {
        "colab": {
          "base_uri": "https://localhost:8080/",
          "height": 295
        },
        "id": "QfN1RbekK8Iy",
        "outputId": "1334fc59-c38b-4bbd-ce6c-3e04171c7a1a"
      },
      "outputs": [
        {
          "output_type": "display_data",
          "data": {
            "text/plain": [
              "<Figure size 432x288 with 1 Axes>"
            ],
            "image/png": "[encoded data removed]"
          },
          "metadata": {
            "needs_background": "light"
          }
        }
      ],
      "source": [
        "#Global data distribution \n",
        "fig, ax = plt.subplots()\n",
        "\n",
        "data = [len(os.listdir(\"/content/emotions_dataset/\" + f\"{c}\")) for c in class_labels]\n",
        "\n",
        "ax.bar(class_labels, data, color ='blue', width = 0.6)\n",
        "\n",
        "ax.set_ylabel('Total amount')\n",
        "ax.set_xlabel('Emotions')\n",
        "ax.set_title(\"Files distribution per class\")\n",
        "\n",
        "plt.show()"
      ]
    },
    {
      "cell_type": "code",
      "execution_count": null,
      "metadata": {
        "colab": {
          "base_uri": "https://localhost:8080/",
          "height": 319
        },
        "id": "gV4cfntdW0o0",
        "outputId": "9314c401-5a80-414d-e366-6be40bda209b"
      },
      "outputs": [
        {
          "output_type": "display_data",
          "data": {
            "text/plain": [
              "<Figure size 720x360 with 1 Axes>"
            ],
            "image/png": "[encoded data removed]"
          },
          "metadata": {}
        }
      ],
      "source": [
        "#Percentage of data distribution \n",
        "fig, ax = plt.subplots(figsize=(10, 5), subplot_kw=dict(aspect=\"equal\"))\n",
        "\n",
        "data = [len(os.listdir(\"/content/emotions_dataset/\" + f\"{c}\")) for c in class_labels]\n",
        "\n",
        "def func(pct, allvals):\n",
        "    absolute = int(np.round(pct/100.*np.sum(allvals)))\n",
        "    return \"{:.1f}%\\n({:d})\".format(pct, absolute)\n",
        "\n",
        "\n",
        "slices, texts, autotexts = ax.pie(data, autopct=lambda pct: func(pct, data),\n",
        "                                  textprops=dict(color=\"w\"))\n",
        "\n",
        "ax.legend(slices, class_labels,\n",
        "          title=\"Emotions\",\n",
        "          loc=\"center left\",\n",
        "          bbox_to_anchor=(1, 0, 0.5, 1))\n",
        "\n",
        "plt.setp(autotexts, size=8, weight=\"bold\")\n",
        "\n",
        "ax.set_title(\"Files distribution per class\")\n",
        "\n",
        "plt.show()"
      ]
    },
    {
      "cell_type": "markdown",
      "metadata": {
        "id": "YnGQbqrHngta"
      },
      "source": [
        "### Dataset sampling examples"
      ]
    },
    {
      "cell_type": "code",
      "execution_count": null,
      "metadata": {
        "colab": {
          "base_uri": "https://localhost:8080/",
          "height": 1000
        },
        "id": "vddRSnmFkGd0",
        "outputId": "2b5164f4-4c58-4e2c-e68d-9bea18dac50a"
      },
      "outputs": [
        {
          "output_type": "display_data",
          "data": {
            "text/plain": [
              "<Figure size 720x1440 with 1 Axes>"
            ],
            "image/png": "[encoded data removed]"
          },
          "metadata": {
            "needs_background": "light"
          }
        },
        {
          "output_type": "display_data",
          "data": {
            "text/plain": [
              "<Figure size 720x1440 with 1 Axes>"
            ],
            "image/png": "[encoded data removed]"
          },
          "metadata": {
            "needs_background": "light"
          }
        },
        {
          "output_type": "display_data",
          "data": {
            "text/plain": [
              "<Figure size 720x1440 with 1 Axes>"
            ],
            "image/png": "[encoded data removed]"
          },
          "metadata": {
            "needs_background": "light"
          }
        },
        {
          "output_type": "display_data",
          "data": {
            "text/plain": [
              "<Figure size 720x1440 with 1 Axes>"
            ],
            "image/png": "[encoded data removed]"
          },
          "metadata": {
            "needs_background": "light"
          }
        },
        {
          "output_type": "display_data",
          "data": {
            "text/plain": [
              "<Figure size 720x1440 with 1 Axes>"
            ],
            "image/png": "[encoded data removed]"
          },
          "metadata": {
            "needs_background": "light"
          }
        },
        {
          "output_type": "display_data",
          "data": {
            "text/plain": [
              "<Figure size 720x1440 with 1 Axes>"
            ],
            "image/png": "[encoded data removed]"
          },
          "metadata": {
            "needs_background": "light"
          }
        },
        {
          "output_type": "display_data",
          "data": {
            "text/plain": [
              "<Figure size 720x1440 with 1 Axes>"
            ],
            "image/png": "[encoded data removed]"
          },
          "metadata": {
            "needs_background": "light"
          }
        }
      ],
      "source": [
        "def show_sample_images(folder_directory):\n",
        "    # Build a connection string\n",
        "    for c in class_labels:\n",
        "      full_path = folder_directory + f\"{c}\" + \"/\"\n",
        "      # Get a set of random images\n",
        "      images = random.sample(os.listdir(full_path), 1)\n",
        "      # Plot the images\n",
        "      fig=plt.figure(figsize=(10, 20))\n",
        "      for i, img in enumerate(images):\n",
        "          img = mpimg.imread(full_path + img)\n",
        "          ax = plt.subplot(7, 1, i + 1)\n",
        "          plt.imshow(img, cmap='gray') \n",
        "          plt.title(\"{} image of class \\\"{}\\\"\".format(img.shape, f\"{c}\"))\n",
        "          plt.axis(\"off\")\n",
        "          plt.tight_layout() \n",
        "\n",
        "show_sample_images(path + main_folder + training_folder)"
      ]
    },
    {
      "cell_type": "markdown",
      "metadata": {
        "id": "y-tJgUUpMCoS"
      },
      "source": [
        "### Visualization of data distribution after training, validation and test split"
      ]
    },
    {
      "cell_type": "code",
      "execution_count": null,
      "metadata": {
        "colab": {
          "base_uri": "https://localhost:8080/",
          "height": 351
        },
        "id": "-BQoc_qnK67r",
        "outputId": "fdb992fc-9703-496c-f6ac-8c0c8249487e"
      },
      "outputs": [
        {
          "output_type": "display_data",
          "data": {
            "text/plain": [
              "<Figure size 1440x360 with 3 Axes>"
            ],
            "image/png": "[encoded data removed]"
          },
          "metadata": {
            "needs_background": "light"
          }
        }
      ],
      "source": [
        "# creating the dataset\n",
        "y_train = [len(os.listdir(path + main_folder + training_folder + f\"{c}\")) for c in class_labels]\n",
        "y_val = [len(os.listdir(path + main_folder + training_folder + f\"{c}\")) for c in class_labels]\n",
        "y_test = [len(os.listdir(path + main_folder + training_folder + f\"{c}\")) for c in class_labels]\n",
        "\n",
        "#Fig. dimentions\n",
        "fig = plt.figure(figsize = (20, 5))\n",
        " \n",
        "# creating the bar plot\n",
        "plt.subplot(1,3,1)\n",
        "plt.bar(class_labels, y_train, color ='blue',\n",
        "        width = 0.6)\n",
        "plt.title(\"No. Images per class in training dataset\")\n",
        "plt.ylabel(\"No. of images\")\n",
        "plt.xlabel(\"Class_labels\")\n",
        "\n",
        "plt.subplot(1,3,2)\n",
        "plt.bar(class_labels, y_val, color ='green',\n",
        "        width = 0.6)\n",
        "\n",
        "plt.ylabel(\"No. of images\")\n",
        "plt.xlabel(\"Class_labels\")\n",
        "plt.title(\"No. Images per class on validation dataset\")\n",
        "\n",
        "plt.subplot(1,3,3)\n",
        "plt.bar(class_labels, y_test, color ='orange',\n",
        "        width = 0.6)\n",
        "\n",
        "plt.ylabel(\"No. of images\")\n",
        "plt.xlabel(\"Class_labels\")\n",
        "plt.title(\"No. Images per class on test dataset\")\n",
        "\n",
        "plt.show()\n",
        "\n",
        "#meter teste e validation no mesmo grafico"
      ]
    },
    {
      "cell_type": "markdown",
      "metadata": {
        "id": "Opc9FfbYbVHT"
      },
      "source": [
        "# 4.Dataset treatment"
      ]
    },
    {
      "cell_type": "markdown",
      "metadata": {
        "id": "On5AVh97UeWW"
      },
      "source": [
        "## Treat imbalance data set"
      ]
    },
    {
      "cell_type": "markdown",
      "metadata": {
        "id": "mxCuG3w5-F9S"
      },
      "source": [
        "###Class_weights"
      ]
    },
    {
      "cell_type": "code",
      "execution_count": null,
      "metadata": {
        "colab": {
          "base_uri": "https://localhost:8080/"
        },
        "id": "foQkyTiAVGoC",
        "outputId": "d9e37370-2c5b-40be-852d-af4fe5a9fda7"
      },
      "outputs": [
        {
          "output_type": "stream",
          "name": "stdout",
          "text": [
            "Found 25117 images belonging to 7 classes.\n"
          ]
        },
        {
          "output_type": "execute_result",
          "data": {
            "text/plain": [
              "{0: 1.8148254975483127,\n",
              " 1: 16.471204188481675,\n",
              " 2: 1.7555803571428572,\n",
              " 3: 1.0,\n",
              " 4: 1.450437989857077,\n",
              " 5: 1.479426287326593,\n",
              " 6: 2.246340592645484}"
            ]
          },
          "metadata": {},
          "execution_count": 51
        }
      ],
      "source": [
        "train_datagen = ImageDataGenerator()\n",
        "train_generator = train_datagen.flow_from_directory(path + main_folder + training_folder)\n",
        "\n",
        "counter = Counter(train_generator.classes)                          \n",
        "max_val = float(max(counter.values()))       \n",
        "class_weights = {class_id : max_val/num_images for class_id, num_images in counter.items()}\n",
        "class_weights"
      ]
    },
    {
      "cell_type": "markdown",
      "metadata": {
        "id": "BsusstYfdDJF"
      },
      "source": [
        "### Dataset balancing deployment:\n",
        "\n",
        "Oversampling minoritary class\n"
      ]
    },
    {
      "cell_type": "markdown",
      "metadata": {
        "id": "io9_o3t0eVyG"
      },
      "source": [
        "Counting files without balanced performance"
      ]
    },
    {
      "cell_type": "code",
      "execution_count": null,
      "metadata": {
        "colab": {
          "base_uri": "https://localhost:8080/"
        },
        "id": "ySN4hUI6dQsm",
        "outputId": "02687406-395f-492c-f2b7-96bce620271a"
      },
      "outputs": [
        {
          "output_type": "stream",
          "name": "stdout",
          "text": [
            "No. of disgust files without oversampling is: 382\n",
            "No. of surprise files without oversampling is: 2801\n",
            "No. of happy files without undersampling is: 6292\n"
          ]
        }
      ],
      "source": [
        "#Two minoritary classes to be oversample: Disgust and Surprise\n",
        "disgust_ = os.listdir(path + main_folder + training_folder + disgust_folder)\n",
        "print(\"No. of disgust files without oversampling is:\", len(disgust_))\n",
        "\n",
        "surprise_ = os.listdir(path + main_folder + training_folder + surprise_folder)\n",
        "print(\"No. of surprise files without oversampling is:\", len(surprise_))\n",
        "\n",
        "#One major class to be undersample: Happy\n",
        "happy_ = os.listdir(path + main_folder + training_folder + happy_folder)\n",
        "print(\"No. of happy files without undersampling is:\", len(happy_))"
      ]
    },
    {
      "cell_type": "markdown",
      "source": [
        "Global variables"
      ],
      "metadata": {
        "id": "LT0xmpt6Sbjs"
      }
    },
    {
      "cell_type": "code",
      "execution_count": null,
      "metadata": {
        "id": "yKgGI85sFNT2"
      },
      "outputs": [],
      "source": [
        "# Source path \n",
        "src = path + main_folder + training_folder\n",
        "\n",
        "# Destination path \n",
        "dest = path + main_folder + balanced_training_folder\n",
        "\n",
        "# Copy the content of source to destination \n",
        "destination = shutil.copytree(src, dest)\n",
        "\n",
        "#Parameters for datagenerator\n",
        "datagen = ImageDataGenerator(\n",
        "        rotation_range=40,\n",
        "        width_shift_range=0.2,\n",
        "        height_shift_range=0.2,\n",
        "        shear_range=0.2,\n",
        "        zoom_range=0.2,\n",
        "        horizontal_flip=True,\n",
        "        fill_mode='nearest')"
      ]
    },
    {
      "cell_type": "markdown",
      "source": [
        "Disgust class oversampling:"
      ],
      "metadata": {
        "id": "jd5ghiovSjYV"
      }
    },
    {
      "cell_type": "code",
      "execution_count": null,
      "metadata": {
        "id": "Vgm-kJF7di9U"
      },
      "outputs": [],
      "source": [
        "for img_name in disgust_:\n",
        "  img = load_img(path + main_folder + balanced_training_folder + disgust_folder + f\"{img_name}\")  \n",
        "  x = img_to_array(img)  \n",
        "  x = x.reshape((1,) + x.shape) \n",
        "  #print(x.shape)\n",
        "\n",
        "  i = 0\n",
        "  for batch in datagen.flow(x,\n",
        "                            save_to_dir= path + main_folder + balanced_training_folder + disgust_folder, save_prefix= 'disgust', save_format='jpeg'):\n",
        "    i +=1\n",
        "    if i > 10:\n",
        "      break"
      ]
    },
    {
      "cell_type": "markdown",
      "source": [
        "Surprise class oversampling:"
      ],
      "metadata": {
        "id": "KWbbf_b4TzYs"
      }
    },
    {
      "cell_type": "code",
      "execution_count": null,
      "metadata": {
        "id": "cEv5BrxIDxD4"
      },
      "outputs": [],
      "source": [
        "# Surprise class oversampling:\n",
        "for img_name in surprise_:\n",
        "  img = load_img(path + main_folder + balanced_training_folder + surprise_folder + f\"{img_name}\")  \n",
        "  x = img_to_array(img)  \n",
        "  x = x.reshape((1,) + x.shape) \n",
        "  #print(x.shape)\n",
        "\n",
        "  i = 0\n",
        "  for batch in datagen.flow(x,\n",
        "                            save_to_dir= path + main_folder + balanced_training_folder + surprise_folder, save_prefix= 'surprise', save_format='jpeg'):\n",
        "    i +=1\n",
        "    if i > 0:\n",
        "      break"
      ]
    },
    {
      "cell_type": "markdown",
      "metadata": {
        "id": "QI5zh3hTLuhb"
      },
      "source": [
        "Undersampling majoritary class"
      ]
    },
    {
      "cell_type": "code",
      "execution_count": null,
      "metadata": {
        "id": "cwPjJNxrLuAb"
      },
      "outputs": [],
      "source": [
        "src = path + main_folder + balanced_training_folder + happy_folder\n",
        "img_drop_n = 1000 \n",
        "img_names = os.listdir(src)\n",
        "\n",
        "#Random image selector\n",
        "img_names = random.sample(img_names, img_drop_n)\n",
        "\n",
        "# Remove the image\n",
        "for image in img_names:\n",
        "    f = os.path.join(src, image)\n",
        "    os.remove(f)  "
      ]
    },
    {
      "cell_type": "markdown",
      "metadata": {
        "id": "3DfeN7Hvewnk"
      },
      "source": [
        "Counting oversampled and undersampled file classes"
      ]
    },
    {
      "cell_type": "code",
      "execution_count": null,
      "metadata": {
        "colab": {
          "base_uri": "https://localhost:8080/"
        },
        "id": "t7ytlzXhdnMm",
        "outputId": "b21d293f-f0c5-4ac3-a22f-04d0f5087d01"
      },
      "outputs": [
        {
          "output_type": "stream",
          "name": "stdout",
          "text": [
            "No. of disgust files with oversampling is: 3844\n",
            "No. of surprise files with oversampling is: 5247\n",
            "No. of happy files with undersampling is: 5292\n"
          ]
        }
      ],
      "source": [
        "#Two minoritary classes oversampled: Disgust and Surprise\n",
        "disgust_ = os.listdir(path + main_folder + balanced_training_folder + disgust_folder)\n",
        "print(\"No. of disgust files with oversampling is:\", len(disgust_))\n",
        "\n",
        "surprise_ = os.listdir(path + main_folder + balanced_training_folder + surprise_folder)\n",
        "print(\"No. of surprise files with oversampling is:\", len(surprise_))\n",
        "\n",
        "#One major class undersampled: Happy\n",
        "happy_ = os.listdir(path + main_folder + balanced_training_folder + happy_folder)\n",
        "print(\"No. of happy files with undersampling is:\", len(happy_))"
      ]
    },
    {
      "cell_type": "markdown",
      "metadata": {
        "id": "EvEX7_wZfQCu"
      },
      "source": [
        "Data distribution after imbalance treatment"
      ]
    },
    {
      "cell_type": "code",
      "execution_count": null,
      "metadata": {
        "colab": {
          "base_uri": "https://localhost:8080/",
          "height": 295
        },
        "id": "PsI8pfMJ4fZ8",
        "outputId": "e50862c1-1798-4110-fed6-96ad20e0707d"
      },
      "outputs": [
        {
          "output_type": "display_data",
          "data": {
            "text/plain": [
              "<Figure size 432x288 with 1 Axes>"
            ],
            "image/png": "[encoded data removed]"
          },
          "metadata": {
            "needs_background": "light"
          }
        }
      ],
      "source": [
        "fig, ax = plt.subplots()\n",
        "\n",
        "data = [len(os.listdir(path + main_folder + balanced_training_folder + f\"{c}\")) for c in class_labels]\n",
        "\n",
        "ax.bar(class_labels, data, color ='blue',\n",
        "        width = 0.6)\n",
        "\n",
        "ax.set_ylabel('Total amount')\n",
        "ax.set_xlabel('Emotions')\n",
        "ax.set_title(\"Files distribution per class - Train Balanced\")\n",
        "\n",
        "plt.show()"
      ]
    },
    {
      "cell_type": "code",
      "execution_count": null,
      "metadata": {
        "colab": {
          "base_uri": "https://localhost:8080/",
          "height": 319
        },
        "id": "cCro4WYwfPyF",
        "outputId": "188d9b44-02eb-433d-a96e-be9bce07a5b3"
      },
      "outputs": [
        {
          "output_type": "display_data",
          "data": {
            "text/plain": [
              "<Figure size 720x360 with 1 Axes>"
            ],
            "image/png": "[encoded data removed]"
          },
          "metadata": {}
        }
      ],
      "source": [
        "#Percentage of data distribution \n",
        "fig, ax = plt.subplots(figsize=(10, 5), subplot_kw=dict(aspect=\"equal\"))\n",
        "\n",
        "data = [len(os.listdir(path + main_folder + balanced_training_folder + f\"{c}\")) for c in class_labels]\n",
        "\n",
        "\n",
        "def func(pct, allvals):\n",
        "    absolute = int(np.round(pct/100.*np.sum(allvals)))\n",
        "    return \"{:.1f}%\\n({:d})\".format(pct, absolute)\n",
        "\n",
        "\n",
        "slices, texts, autotexts = ax.pie(data, autopct=lambda pct: func(pct, data),\n",
        "                                  textprops=dict(color=\"w\"))\n",
        "\n",
        "ax.legend(slices, class_labels,\n",
        "          title=\"Emotions\",\n",
        "          loc=\"center left\",\n",
        "          bbox_to_anchor=(1, 0, 0.5, 1))\n",
        "\n",
        "plt.setp(autotexts, size=8, weight=\"bold\")\n",
        "\n",
        "ax.set_title(\"Files distribution per class\")\n",
        "\n",
        "plt.show()"
      ]
    },
    {
      "cell_type": "markdown",
      "metadata": {
        "id": "5SyPv0i_nneG"
      },
      "source": [
        "## Loading data into virtual machine"
      ]
    },
    {
      "cell_type": "markdown",
      "metadata": {
        "id": "bObjM17ZnsPR"
      },
      "source": [
        "Defines a list of parameters for the image_dataset_from_directory."
      ]
    },
    {
      "cell_type": "code",
      "execution_count": null,
      "metadata": {
        "id": "VRgvDj40ljAd"
      },
      "outputs": [],
      "source": [
        "image_size=(48,48)                            # is being set to (128, 125), which means that all images will be resized to have a width and height of 64 pixels. ( PERGUNTAR DE DEVEMOS MUDAR TENDO EM CONTA QUE AS IMAGENS SÃO 28,28)\n",
        "crop_to_aspect_ratio = True                   # being set to True, meaning that images will be cropped to maintain their aspect ratio when resized.\n",
        "color_mode='rgb'                              # set to 'rgb', indicating that the images are in RGB format (as opposed to grayscale). (PERGUNTAR À PROFESSORA)\n",
        "batch_size= 200                               # being set to 200, which means that the images will be divided into groups of 200 for training and validation. This value can be adjusted if overfitting or underfitting is observed.\n",
        "label_mode= \"categorical\"                     # set to 'categorical', indicating that the labels for the images are in the form of categorical classes rather than numerical values.\n",
        "validation_split=1                            # is set to 1, which means that all data will be used for validation.\n",
        "shuffle=True                                  # set to True, indicating that the dataset will be shuffled before each epoch of training.\n",
        "seed=0                                        # set to 0, which means that the random number generator used to shuffle the dataset will be initialized with a seed of 0.\n",
        "patience=5                                    \n",
        "epochs = 100"
      ]
    },
    {
      "cell_type": "markdown",
      "source": [
        "### Loading data"
      ],
      "metadata": {
        "id": "-3cMFetEXeKA"
      }
    },
    {
      "cell_type": "code",
      "execution_count": null,
      "metadata": {
        "colab": {
          "base_uri": "https://localhost:8080/"
        },
        "id": "7qsIonJ-7B22",
        "outputId": "8cbab538-9996-4439-b462-c0f95719cd1d"
      },
      "outputs": [
        {
          "output_type": "stream",
          "name": "stdout",
          "text": [
            "Found 25117 files belonging to 7 classes.\n",
            "Found 30025 files belonging to 7 classes.\n",
            "Found 7174 files belonging to 7 classes.\n",
            "Found 3596 files belonging to 7 classes.\n",
            "\n",
            "Object's type:\t <class 'tensorflow.python.data.ops.dataset_ops.BatchDataset'>\n",
            "Is it a tf.data.Dataset?\t R: True\n",
            "Classes: ['angry', 'disgust', 'fear', 'happy', 'neutral', 'sad', 'surprise']\n",
            "\n",
            "Object's type:\t <class 'tensorflow.python.data.ops.dataset_ops.BatchDataset'>\n",
            "Is it a tf.data.Dataset?\t R: True\n",
            "Classes: ['angry', 'disgust', 'fear', 'happy', 'neutral', 'sad', 'surprise']\n"
          ]
        }
      ],
      "source": [
        "# Create training dataset\n",
        "ds_train = image_dataset_from_directory(path + main_folder + training_folder,\n",
        "                                        image_size=image_size,\n",
        "                                        crop_to_aspect_ratio=crop_to_aspect_ratio,\n",
        "                                        color_mode=color_mode,\n",
        "                                        batch_size=batch_size,\n",
        "                                        label_mode=label_mode,\n",
        "                                        shuffle=shuffle,\n",
        "                                        seed=seed)\n",
        "\n",
        "# Create training dataset with balanced data\n",
        "ds_train_balanced = image_dataset_from_directory(path + main_folder + balanced_training_folder,\n",
        "                                        image_size=image_size,\n",
        "                                        crop_to_aspect_ratio=crop_to_aspect_ratio,\n",
        "                                        color_mode=color_mode,\n",
        "                                        batch_size=batch_size,\n",
        "                                        label_mode=label_mode,\n",
        "                                        shuffle=shuffle,\n",
        "                                        seed=seed)\n",
        "# Create Validation dataset\n",
        "ds_val = image_dataset_from_directory(path + main_folder + validation_folder,\n",
        "                                      image_size=image_size,\n",
        "                                      crop_to_aspect_ratio=crop_to_aspect_ratio,\n",
        "                                      color_mode=color_mode,\n",
        "                                      batch_size=batch_size,\n",
        "                                      label_mode=label_mode,\n",
        "                                      shuffle=shuffle,\n",
        "                                      seed=seed)\n",
        "# Create test dataset\n",
        "ds_test = image_dataset_from_directory(path + main_folder + testing_folder,\n",
        "                                       image_size=image_size,\n",
        "                                       crop_to_aspect_ratio=crop_to_aspect_ratio,\n",
        "                                       color_mode=color_mode,\n",
        "                                       batch_size=3596,\n",
        "                                       label_mode=label_mode,                                   \n",
        "                                       shuffle= False,\n",
        "                                       seed=seed)\n",
        "\n",
        "# Check object properties\n",
        "print(\"\\nObject's type:\\t\", type(ds_train))\n",
        "print(\"Is it a tf.data.Dataset?\\t R:\",isinstance(ds_train, tf.data.Dataset))\n",
        "print(\"Classes:\", ds_train.class_names)\n",
        "\n",
        "print(\"\\nObject's type:\\t\", type(ds_train_balanced))\n",
        "print(\"Is it a tf.data.Dataset?\\t R:\",isinstance(ds_train_balanced, tf.data.Dataset))\n",
        "print(\"Classes:\", ds_train_balanced.class_names)"
      ]
    },
    {
      "cell_type": "markdown",
      "metadata": {
        "id": "mdQW63cBp5cv"
      },
      "source": [
        "### Split X and y variables "
      ]
    },
    {
      "cell_type": "code",
      "execution_count": null,
      "metadata": {
        "colab": {
          "base_uri": "https://localhost:8080/"
        },
        "id": "NgD3diKlp6eH",
        "outputId": "c84ebf7c-41c7-449b-8e0e-e8090649f477"
      },
      "outputs": [
        {
          "output_type": "stream",
          "name": "stdout",
          "text": [
            "(200, 48, 48, 3) (200, 7)\n",
            "\n",
            "Sample of y_train: tf.Tensor(\n",
            "[[0. 0. 0. 1. 0. 0. 0.]\n",
            " [1. 0. 0. 0. 0. 0. 0.]\n",
            " [0. 0. 1. 0. 0. 0. 0.]\n",
            " [1. 0. 0. 0. 0. 0. 0.]\n",
            " [0. 0. 0. 1. 0. 0. 0.]\n",
            " [0. 0. 0. 1. 0. 0. 0.]\n",
            " [0. 0. 0. 0. 0. 0. 1.]], shape=(7, 7), dtype=float32)\n",
            "Sample average of y_train: tf.Tensor(0.14285715, shape=(), dtype=float32)\n",
            "(200, 48, 48, 3) (200, 7)\n",
            "\n",
            "Sample of y_train: tf.Tensor(\n",
            "[[0. 1. 0. 0. 0. 0. 0.]\n",
            " [0. 0. 1. 0. 0. 0. 0.]\n",
            " [0. 0. 0. 0. 0. 0. 1.]\n",
            " [0. 1. 0. 0. 0. 0. 0.]\n",
            " [0. 0. 0. 0. 0. 0. 1.]\n",
            " [0. 0. 0. 1. 0. 0. 0.]\n",
            " [0. 0. 0. 0. 0. 0. 1.]], shape=(7, 7), dtype=float32)\n",
            "Sample average of y_train: tf.Tensor(0.14285715, shape=(), dtype=float32)\n",
            "(200, 48, 48, 3) (200, 7)\n",
            "\n",
            "Sample of y_val: tf.Tensor(\n",
            "[[0. 0. 1. 0. 0. 0. 0.]\n",
            " [0. 0. 0. 0. 1. 0. 0.]\n",
            " [0. 0. 0. 0. 1. 0. 0.]\n",
            " [0. 0. 1. 0. 0. 0. 0.]\n",
            " [0. 0. 0. 0. 1. 0. 0.]\n",
            " [0. 0. 0. 1. 0. 0. 0.]\n",
            " [0. 0. 0. 0. 1. 0. 0.]], shape=(7, 7), dtype=float32)\n",
            "Sample average of y_val: tf.Tensor(0.14285715, shape=(), dtype=float32)\n",
            "(3596, 48, 48, 3) (3596, 7)\n",
            "\n",
            "Sample of y_test: tf.Tensor(\n",
            "[[1. 0. 0. 0. 0. 0. 0.]\n",
            " [1. 0. 0. 0. 0. 0. 0.]\n",
            " [1. 0. 0. 0. 0. 0. 0.]\n",
            " [1. 0. 0. 0. 0. 0. 0.]\n",
            " [1. 0. 0. 0. 0. 0. 0.]\n",
            " [1. 0. 0. 0. 0. 0. 0.]\n",
            " [1. 0. 0. 0. 0. 0. 0.]], shape=(7, 7), dtype=float32)\n",
            "Sample average of y_test: tf.Tensor(0.14285715, shape=(), dtype=float32)\n"
          ]
        }
      ],
      "source": [
        "# Imbalaced train ds\n",
        "iter_train = iter(ds_train) \n",
        "batch_x_train, batch_y_train = iter_train.next()\n",
        "print(batch_x_train.shape, batch_y_train.shape)\n",
        "print(\"\\nSample of y_train:\", batch_y_train[0:7])\n",
        "print(\"Sample average of y_train:\", tf.reduce_mean(batch_y_train))\n",
        "\n",
        "# Balaced train ds\n",
        "iter_train_BAL = iter(ds_train_balanced) \n",
        "batch_x_train_BAL, batch_y_train_BAL = iter_train_BAL.next()\n",
        "print(batch_x_train_BAL.shape, batch_y_train_BAL.shape)\n",
        "print(\"\\nSample of y_train:\", batch_y_train_BAL[0:7])\n",
        "print(\"Sample average of y_train:\", tf.reduce_mean(batch_y_train_BAL))\n",
        "\n",
        "# Validation ds\n",
        "iter_val = iter(ds_val)\n",
        "batch_x_val, batch_y_val = iter_val.next()\n",
        "print(batch_x_val.shape, batch_y_val.shape)\n",
        "print(\"\\nSample of y_val:\", batch_y_val[0:7])\n",
        "print(\"Sample average of y_val:\", tf.reduce_mean(batch_y_val))\n",
        "\n",
        "# Test ds\n",
        "iter_test = iter(ds_test) \n",
        "batch_x_test, batch_y_test = iter_test.next()\n",
        "print(batch_x_test.shape, batch_y_test.shape)\n",
        "print(\"\\nSample of y_test:\", batch_y_test[0:7])\n",
        "print(\"Sample average of y_test:\", tf.reduce_mean(batch_y_test))"
      ]
    },
    {
      "cell_type": "markdown",
      "metadata": {
        "id": "TESIfDfBnbCA"
      },
      "source": [
        "Plot images loaded with iter_train object"
      ]
    },
    {
      "cell_type": "code",
      "execution_count": null,
      "metadata": {
        "colab": {
          "base_uri": "https://localhost:8080/",
          "height": 588
        },
        "id": "VaIf0L5RaIcf",
        "outputId": "ddee9e22-7aa4-464c-ff98-d741f355d24c"
      },
      "outputs": [
        {
          "output_type": "display_data",
          "data": {
            "text/plain": [
              "<Figure size 1080x720 with 9 Axes>"
            ],
            "image/png": "[encoded data removed]"
          },
          "metadata": {
            "needs_background": "light"
          }
        }
      ],
      "source": [
        "def show_sample_batch(ds, grid_size=(3, 3)):\n",
        "    n_images = grid_size[0]*grid_size[1]\n",
        "    # Get a batch via iteration\n",
        "    iter_ = iter(ds)\n",
        "    batch_x, batch_y = iter_.next()\n",
        "    batch_x, batch_y = batch_x[0:n_images], batch_y[0:n_images]\n",
        "    # Plot the images\n",
        "    plt.figure(figsize=(15, 10))\n",
        "    for i, (img, y) in enumerate(zip(batch_x, batch_y)):\n",
        "        ax = plt.subplot(grid_size[0], grid_size[1],  i + 1)\n",
        "        plt.imshow(tf.cast(img, tf.int32))\n",
        "        plt.title(\"{} image of class \\\"{}\\\"\".format(img.shape, y), size=8)\n",
        "        plt.axis(\"off\")\n",
        "\n",
        "show_sample_batch(ds_train)"
      ]
    },
    {
      "cell_type": "markdown",
      "metadata": {
        "id": "SODkQUvS9PxW"
      },
      "source": [
        "### Rescaling"
      ]
    },
    {
      "cell_type": "code",
      "execution_count": null,
      "metadata": {
        "id": "HZM3PE0BpXjX"
      },
      "outputs": [],
      "source": [
        "rescaling = layers.BatchNormalization()"
      ]
    },
    {
      "cell_type": "markdown",
      "metadata": {
        "id": "u9cnBWAcq_vl"
      },
      "source": [
        "#5.Models deployment"
      ]
    },
    {
      "cell_type": "markdown",
      "metadata": {
        "id": "thiYlDLGrRU-"
      },
      "source": [
        "Two different approaches.\n",
        "\n",
        "*   Balanced dataset (ds_train_balanced);\n",
        "*   Original dataset (ds_train).\n",
        "\n",
        "\n"
      ]
    },
    {
      "cell_type": "code",
      "source": [
        "#Global variables\n",
        "\n",
        "early_stop = EarlyStopping(patience=patience, monitor='val_loss', mode='min', restore_best_weights=True)\n",
        "input_shape = batch_x_train.shape\n",
        "learning_rate = 0.001\n",
        "num_classes = 7\n"
      ],
      "metadata": {
        "id": "lV3mPwg2pLdn"
      },
      "execution_count": null,
      "outputs": []
    },
    {
      "cell_type": "markdown",
      "metadata": {
        "id": "xWknGTSvg5d-"
      },
      "source": [
        "## Simple Models \n",
        "Classes based\n",
        "\n",
        "\n",
        "\n"
      ]
    },
    {
      "cell_type": "markdown",
      "source": [
        "Basic model 1"
      ],
      "metadata": {
        "id": "hbJ3Jh07ZuW3"
      }
    },
    {
      "cell_type": "code",
      "execution_count": null,
      "metadata": {
        "id": "aV4X0c0Vg9SN"
      },
      "outputs": [],
      "source": [
        "#Model 1 - imbalanced dataset\n",
        "\n",
        "cnn1 = Sequential([\n",
        "                   layers.BatchNormalization(),\n",
        "                   layers.Conv2D(filters=32, kernel_size=(3, 3), kernel_initializer=initializers.GlorotNormal(seed=seed)), layers.Activation(\"relu\"),   layers.MaxPooling2D(pool_size=(2, 2)),\n",
        "                   layers.Conv2D(filters=64, kernel_size=(3, 3), kernel_initializer=initializers.GlorotNormal(seed=seed)), layers.Activation(\"relu\"),   layers.GlobalMaxPooling2D(),\n",
        "              \n",
        "                   layers.Dense(units=7, activation=\"softmax\",  kernel_initializer=initializers.GlorotNormal(seed=seed))])\n",
        "\n",
        "\n",
        "\n",
        "# Builds the DAG (comment if input_shape was already provided to the first layer)\n",
        "cnn1.build(input_shape)\n",
        "\n",
        "\n",
        "cnn1.summary()\n",
        "\n",
        "\n",
        "cnn1.compile(loss=CategoricalCrossentropy(),\n",
        "             optimizer=optimizers.Adam(learning_rate=learning_rate),  \n",
        "             metrics=[CategoricalAccuracy(name='accuracy'),\n",
        "                      Precision(name='precision'),\n",
        "                      Recall(name='recall'),\n",
        "                      AUC(name='AUC')])\n",
        "\n",
        "\n",
        "# Start Time\n",
        "start = time.time()\n",
        "\n",
        "history1 = cnn1.fit(ds_train, class_weight = class_weights, \n",
        "                    epochs=epochs,\n",
        "                    callbacks=[early_stop], \n",
        "                    validation_data=ds_val)\n",
        "\n",
        "# Measure the end time\n",
        "print(\"Training time: {:.4f}s\".format(time.time() - start))\n",
        "\n",
        "\n",
        "# Create DataFrame object\n",
        "df_hist1 = pd.DataFrame.from_dict(history1.history)\n",
        "df_hist1[\"Epoch\"] = np.arange(1, len(df_hist1) + 1, 1)\n",
        "\n",
        "\n",
        "# Plot learning curves\n",
        "secondary_y = [\"accuracy\", \"val_accuracy\"]\n",
        "ax = df_hist1.plot(x=\"Epoch\", y=['loss', 'val_loss'] + secondary_y,\n",
        "                   secondary_y = secondary_y,\n",
        "                   kind=\"line\", figsize=(6, 3), grid=True, legend=True,\n",
        "                   ylabel=\"Binary cross-entropy\", \n",
        "                   xlabel=\"Epoch\", title=\"Learning curves\",                  \n",
        "                   color=['darkred', 'indianred', \"darkblue\", \"royalblue\"], alpha=0.75, fontsize=10)\n",
        "ax.right_ax.set_ylabel(\"Accuracy\")\n",
        "ax.right_ax.legend(loc=(0.25, -0.45), framealpha=1.0)\n",
        "ax.legend(loc=(0, -0.45), framealpha=1.0)\n",
        "plt.show()"
      ]
    },
    {
      "cell_type": "code",
      "execution_count": null,
      "metadata": {
        "id": "lxs461Hkc-qS"
      },
      "outputs": [],
      "source": [
        "#Model 1 - balanced dataset\n",
        "\n",
        "cnn1_1 = Sequential([\n",
        "                   layers.BatchNormalization(),\n",
        "                   layers.Conv2D(filters=32, kernel_size=(3, 3), kernel_initializer=initializers.GlorotNormal(seed=seed)), layers.Activation(\"relu\"),   layers.MaxPooling2D(pool_size=(2, 2)),\n",
        "                   layers.Conv2D(filters=64, kernel_size=(3, 3), kernel_initializer=initializers.GlorotNormal(seed=seed)), layers.Activation(\"relu\"),   layers.GlobalMaxPooling2D(),\n",
        "              \n",
        "                   layers.Dense(units=7, activation=\"softmax\",  kernel_initializer=initializers.GlorotNormal(seed=seed))])\n",
        "\n",
        "\n",
        "# Builds the DAG (comment if input_shape was already provided to the first layer)\n",
        "cnn1_1.build(input_shape)\n",
        "\n",
        "\n",
        "\n",
        "cnn1_1.summary()\n",
        "\n",
        "\n",
        "cnn1_1.compile(loss=CategoricalCrossentropy(),\n",
        "             optimizer=optimizers.Adam(learning_rate=learning_rate),  \n",
        "             metrics=[CategoricalAccuracy(name='accuracy'),\n",
        "                      Precision(name='precision'),\n",
        "                      Recall(name='recall'),\n",
        "                      AUC(name='AUC')])\n",
        "\n",
        "\n",
        "# Start Time\n",
        "start = time.time()\n",
        "\n",
        "history1_1 = cnn1_1.fit(ds_train_balanced, \n",
        "                    epochs=epochs,\n",
        "                    callbacks=[early_stop], \n",
        "                    validation_data=ds_val)\n",
        "\n",
        "# Measure the end time\n",
        "print(\"Training time: {:.4f}s\".format(time.time() - start))\n",
        "\n",
        "\n",
        "# Create DataFrame object\n",
        "df_hist1 = pd.DataFrame.from_dict(history1_1.history)\n",
        "df_hist1[\"Epoch\"] = np.arange(1, len(df_hist1) + 1, 1)\n",
        "\n",
        "\n",
        "# Plot learning curves\n",
        "secondary_y = [\"accuracy\", \"val_accuracy\"]\n",
        "ax = df_hist1.plot(x=\"Epoch\", y=['loss', 'val_loss'] + secondary_y,\n",
        "                   secondary_y = secondary_y,\n",
        "                   kind=\"line\", figsize=(6, 3), grid=True, legend=True,\n",
        "                   ylabel=\"Binary cross-entropy\", \n",
        "                   xlabel=\"Epoch\", title=\"Learning curves\",                  \n",
        "                   color=['darkred', 'indianred', \"darkblue\", \"royalblue\"], alpha=0.75, fontsize=10)\n",
        "ax.right_ax.set_ylabel(\"Accuracy\")\n",
        "ax.right_ax.legend(loc=(0.25, -0.45), framealpha=1.0)\n",
        "ax.legend(loc=(0, -0.45), framealpha=1.0)\n",
        "plt.show()"
      ]
    },
    {
      "cell_type": "code",
      "execution_count": null,
      "metadata": {
        "id": "R4rDaXfZjAOH"
      },
      "outputs": [],
      "source": [
        "#Model 1 - balanced dataset \n",
        "#REGULARIZER added\n",
        "\n",
        "cnn1_2 = Sequential([\n",
        "                   layers.BatchNormalization(),\n",
        "                   layers.Conv2D(filters=32, kernel_size=(3, 3), kernel_initializer=initializers.GlorotNormal(seed=seed), kernel_regularizer=l2(1e-4), bias_regularizer=l2(1e-4)), layers.Activation(\"relu\"),   layers.MaxPooling2D(pool_size=(2, 2)),\n",
        "                   layers.Conv2D(filters=64, kernel_size=(3, 3), kernel_initializer=initializers.GlorotNormal(seed=seed), kernel_regularizer=l2(1e-4), bias_regularizer=l2(1e-4)), layers.Activation(\"relu\"),   layers.GlobalMaxPooling2D(),\n",
        "              \n",
        "                   layers.Dense(units=7, activation=\"sigmoid\",  kernel_initializer=initializers.GlorotNormal(seed=seed))])\n",
        "\n",
        "\n",
        "\n",
        "# Builds the DAG (comment if input_shape was already provided to the first layer)\n",
        "cnn1_2.build(input_shape)\n",
        "\n",
        "\n",
        "cnn1_2.summary()\n",
        "\n",
        "\n",
        "cnn1_2.compile(loss=CategoricalCrossentropy(),\n",
        "             optimizer=optimizers.Adam(learning_rate=learning_rate),  \n",
        "             metrics=[CategoricalAccuracy(name='accuracy'),\n",
        "                      Precision(name='precision'),\n",
        "                      Recall(name='recall'),\n",
        "                      AUC(name='AUC')])\n",
        "\n",
        "\n",
        "\n",
        "# Start Time\n",
        "start = time.time()\n",
        "\n",
        "history1_2 = cnn1_2.fit(ds_train_balanced, \n",
        "                    epochs=epochs,\n",
        "                    callbacks=[early_stop],\n",
        "                    validation_data=ds_val)\n",
        "\n",
        "# Measure the end time\n",
        "print(\"Training time: {:.4f}s\".format(time.time() - start))\n",
        "\n",
        "\n",
        "# Create DataFrame object\n",
        "df_hist1 = pd.DataFrame.from_dict(history1_2.history)\n",
        "df_hist1[\"Epoch\"] = np.arange(1, len(df_hist1) + 1, 1)\n",
        "\n",
        "\n",
        "# Plot learning curves\n",
        "secondary_y = [\"accuracy\", \"val_accuracy\"]\n",
        "ax = df_hist1.plot(x=\"Epoch\", y=['loss', 'val_loss'] + secondary_y,\n",
        "                   secondary_y = secondary_y,\n",
        "                   kind=\"line\", figsize=(6, 3), grid=True, legend=True,\n",
        "                   ylabel=\"Binary cross-entropy\", \n",
        "                   xlabel=\"Epoch\", title=\"Learning curves\",                  \n",
        "                   color=['darkred', 'indianred', \"darkblue\", \"royalblue\"], alpha=0.75, fontsize=10)\n",
        "ax.right_ax.set_ylabel(\"Accuracy\")\n",
        "ax.right_ax.legend(loc=(0.25, -0.45), framealpha=1.0)\n",
        "ax.legend(loc=(0, -0.45), framealpha=1.0)\n",
        "plt.show()\n",
        "\n"
      ]
    },
    {
      "cell_type": "markdown",
      "metadata": {
        "id": "mlBhE1eOE_23"
      },
      "source": [
        "Basic model 2"
      ]
    },
    {
      "cell_type": "code",
      "execution_count": null,
      "metadata": {
        "id": "NgayITXZjCef"
      },
      "outputs": [],
      "source": [
        "#Model 2 - balanced dataset \n",
        "#Ativation = softmax\n",
        "\n",
        "\n",
        "# Architecture v1\n",
        "cnn2 = Sequential([\n",
        "                   layers.BatchNormalization(),\n",
        "\n",
        "                   layers.Conv2D(filters=32, kernel_size=(3, 3), kernel_initializer=initializers.GlorotNormal(seed=seed), kernel_regularizer=l2(1e-4), bias_regularizer=l2(1e-4)),\n",
        "                   \n",
        "                   layers.Activation(\"relu\"), layers.MaxPooling2D(pool_size=(2, 2)),\n",
        "\n",
        "                   layers.Conv2D(filters=64, kernel_size=(3, 3), kernel_initializer=initializers.GlorotNormal(seed=seed), kernel_regularizer=l2(1e-4), bias_regularizer=l2(1e-4)), \n",
        "                   layers.Activation(\"relu\"), layers.GlobalMaxPooling2D(),\n",
        "                  \n",
        "                   layers.Dense(units=7, activation=\"softmax\", kernel_initializer=initializers.GlorotNormal(seed=seed))])\n",
        "\n",
        "# Builds the DAG (comment if input_shape was already provided to the first layer)\n",
        "cnn2.build(input_shape)\n",
        "\n",
        "\n",
        "cnn2.summary()\n",
        "\n",
        "\n",
        "cnn2.compile(loss=CategoricalCrossentropy(),\n",
        "             optimizer=optimizers.Adam(learning_rate=learning_rate),  \n",
        "             metrics=[CategoricalAccuracy(name='accuracy'),\n",
        "                      Precision(name='precision'),\n",
        "                      Recall(name='recall'),\n",
        "                      AUC(name='AUC')])\n",
        "\n",
        "# Model training (v1)\n",
        "history2 = cnn2.fit(ds_train_balanced, \n",
        "                      callbacks=[early_stop],\n",
        "                      epochs=epochs, validation_data=ds_val)\n",
        "\n",
        "\n",
        "\n",
        "df_hist1 = pd.DataFrame.from_dict(history2.history)\n",
        "df_hist1[\"Epoch\"] = np.arange(1, len(df_hist1) + 1, 1)\n",
        "\n",
        "\n",
        "# Plot learning curves\n",
        "secondary_y = [\"accuracy\", \"val_accuracy\"]\n",
        "ax = df_hist1.plot(x=\"Epoch\", y=['loss', 'val_loss'] + secondary_y,\n",
        "                   secondary_y = secondary_y,\n",
        "                   kind=\"line\", figsize=(6, 3), grid=True, legend=True,\n",
        "                   ylabel=\"Binary cross-entropy\", \n",
        "                   xlabel=\"Epoch\", title=\"Learning curves\",                  \n",
        "                   color=['darkred', 'indianred', \"darkblue\", \"royalblue\"], alpha=0.75, fontsize=10)\n",
        "ax.right_ax.set_ylabel(\"Accuracy\")\n",
        "ax.right_ax.legend(loc=(0.25, -0.45), framealpha=1.0)\n",
        "ax.legend(loc=(0, -0.45), framealpha=1.0)\n",
        "plt.show()"
      ]
    },
    {
      "cell_type": "markdown",
      "source": [
        "Basic model 3\n"
      ],
      "metadata": {
        "id": "SThiVG65dtpT"
      }
    },
    {
      "cell_type": "code",
      "execution_count": null,
      "metadata": {
        "id": "Uu_zgnCFjlrw"
      },
      "outputs": [],
      "source": [
        "#Model 3 - balanced dataset \n",
        "#Conv2D filters from 64 to 128\n",
        "                \n",
        "# Architecture v1\n",
        "cnn3 = Sequential([\n",
        "                   layers.BatchNormalization(),\n",
        "\n",
        "                   layers.Conv2D(filters=64, kernel_size=(3, 3), kernel_initializer=initializers.GlorotNormal(seed=seed), kernel_regularizer=l2(1e-4), bias_regularizer=l2(1e-4)), layers.Activation(\"relu\"),layers.MaxPooling2D(pool_size=(2, 2)),\n",
        "\n",
        "                   layers.Conv2D(filters=128, kernel_size=(3, 3), kernel_initializer=initializers.GlorotNormal(seed=seed), kernel_regularizer=l2(1e-4), bias_regularizer=l2(1e-4)), layers.Activation(\"relu\"), layers.GlobalMaxPooling2D(),\n",
        "                   \n",
        "                   layers.Dense(units=7, activation=\"softmax\", kernel_initializer=initializers.GlorotNormal(seed=seed))])\n",
        "\n",
        "# Builds the DAG (comment if input_shape was already provided to the first layer)\n",
        "cnn3.build(input_shape)\n",
        "\n",
        "\n",
        "cnn3.summary()\n",
        "\n",
        "\n",
        "cnn3.compile(loss=CategoricalCrossentropy(),\n",
        "             optimizer=optimizers.Adam(learning_rate=learning_rate),  \n",
        "             metrics=[CategoricalAccuracy(name='accuracy'),\n",
        "                      Precision(name='precision'),\n",
        "                      Recall(name='recall'),\n",
        "                      AUC(name='AUC')])\n",
        "\n",
        "# Model training (v1)\n",
        "history3 = cnn3.fit(ds_train_balanced, epochs=epochs, \n",
        "                      callbacks=[early_stop],\n",
        "                      validation_data=ds_val)  \n",
        "\n",
        "# Create DataFrame object\n",
        "df_hist1 = pd.DataFrame.from_dict(history3.history)\n",
        "df_hist1[\"Epoch\"] = np.arange(1, len(df_hist1) + 1, 1)\n",
        "# Plot learning curves\n",
        "secondary_y = [\"accuracy\", \"val_accuracy\"]\n",
        "ax = df_hist1.plot(x=\"Epoch\", y=['loss', 'val_loss'] + secondary_y,\n",
        "                   secondary_y = secondary_y,\n",
        "                   kind=\"line\", figsize=(6, 3), grid=True, legend=True,\n",
        "                   ylabel=\"Binary cross-entropy\", \n",
        "                   xlabel=\"Epoch\", title=\"Learning curves\",                  \n",
        "                   color=['darkred', 'indianred', \"darkblue\", \"royalblue\"], alpha=0.75, fontsize=10)\n",
        "ax.right_ax.set_ylabel(\"Accuracy\")\n",
        "ax.right_ax.legend(loc=(0.25, -0.45), framealpha=1.0)\n",
        "ax.legend(loc=(0, -0.45), framealpha=1.0)\n",
        "plt.show()"
      ]
    },
    {
      "cell_type": "markdown",
      "source": [
        "Basic model 4"
      ],
      "metadata": {
        "id": "6Y59HeIqeTPk"
      }
    },
    {
      "cell_type": "code",
      "execution_count": null,
      "metadata": {
        "id": "MzkOlAZckZan"
      },
      "outputs": [],
      "source": [
        "#Model 4 - balanced dataset \n",
        "# strides=(2, 2), filtres from 128 256\n",
        "               \n",
        "# Architecture v1\n",
        "cnn4 = Sequential([\n",
        "                   layers.BatchNormalization(),\n",
        "                   \n",
        "                   layers.Conv2D(filters=128, kernel_size=(3, 3), strides=(2, 2),  kernel_initializer=initializers.GlorotNormal(seed=seed), kernel_regularizer=l2(1e-4), bias_regularizer=l2(1e-4)), layers.Activation(\"relu\"),\n",
        "                   layers.MaxPooling2D(pool_size=(2, 2)),\n",
        "                   \n",
        "                   layers.Conv2D(filters=256, kernel_size=(3, 3), strides=(2, 2),  kernel_initializer=initializers.GlorotNormal(seed=seed), kernel_regularizer=l2(1e-4), bias_regularizer=l2(1e-4)), layers.Activation(\"relu\"),\n",
        "                   layers.GlobalMaxPooling2D(),\n",
        "                   \n",
        "                   layers.Dense(units=7,  activation=\"softmax\", kernel_initializer=initializers.GlorotNormal(seed=seed))])\n",
        "\n",
        "# Builds the DAG (comment if input_shape was already provided to the first layer)\n",
        "cnn4.build(input_shape)\n",
        "\n",
        "\n",
        "cnn4.summary()  \n",
        "\n",
        "\n",
        "cnn4.compile(loss=CategoricalCrossentropy(),\n",
        "             optimizer=optimizers.Adam(learning_rate=learning_rate),  \n",
        "             metrics=[CategoricalAccuracy(name='accuracy'), Precision(name='precision'), Recall(name='recall'), AUC(name='AUC')])\n",
        "\n",
        "# Model training\n",
        "history4 = cnn4.fit(ds_train_balanced, \n",
        "                      callbacks=[early_stop],\n",
        "                      epochs=epochs, \n",
        "                      validation_data=ds_val)\n",
        "\n",
        "df_hist4= pd.DataFrame.from_dict(history4.history)\n",
        "df_hist1[\"Epoch\"] = np.arange(1, len(df_hist1) + 1, 1)\n",
        "\n",
        "# Plot learning curves\n",
        "secondary_y = [\"accuracy\", \"val_accuracy\"]\n",
        "ax = df_hist1.plot(x=\"Epoch\", y=['loss', 'val_loss'] + secondary_y,\n",
        "                   secondary_y = secondary_y,\n",
        "                   kind=\"line\", figsize=(6, 3), grid=True, legend=True,\n",
        "                   ylabel=\"Binary cross-entropy\", \n",
        "                   xlabel=\"Epoch\", title=\"Learning curves\",                  \n",
        "                   color=['darkred', 'indianred', \"darkblue\", \"royalblue\"], alpha=0.75, fontsize=10)\n",
        "ax.right_ax.set_ylabel(\"Accuracy\")\n",
        "ax.right_ax.legend(loc=(0.25, -0.45), framealpha=1.0)\n",
        "ax.legend(loc=(0, -0.45), framealpha=1.0)\n",
        "plt.show()"
      ]
    },
    {
      "cell_type": "markdown",
      "source": [
        "Basic model 5"
      ],
      "metadata": {
        "id": "PyYSMfkIfcjj"
      }
    },
    {
      "cell_type": "code",
      "execution_count": null,
      "metadata": {
        "id": "5wxBwEsCkzh5"
      },
      "outputs": [],
      "source": [
        "#Model 5 - balanced dataset \n",
        "#padding='valid', filters from 256 to 512\n",
        "              \n",
        "# Architecture v1\n",
        "cnn5 = Sequential([\n",
        "                   layers.BatchNormalization(),\n",
        "                   \n",
        "                   layers.Conv2D(filters=256, kernel_size=(3, 3), strides=(1, 1),  padding='valid', kernel_initializer=initializers.GlorotNormal(seed=seed), kernel_regularizer=l2(1e-4), bias_regularizer=l2(1e-4)), layers.Activation(\"relu\"),\n",
        "                   layers.MaxPooling2D(pool_size=(2, 2)),\n",
        "                   \n",
        "                   layers.Conv2D(filters=512, kernel_size=(3, 3), strides=(1, 1), padding='valid', kernel_initializer=initializers.GlorotNormal(seed=seed), kernel_regularizer=l2(1e-4), bias_regularizer=l2(1e-4)), layers.Activation(\"relu\"),\n",
        "                   layers.GlobalMaxPooling2D(),\n",
        "                   \n",
        "                   layers.Dense(units=7,  activation=\"softmax\", kernel_initializer=initializers.GlorotNormal(seed=seed))])\n",
        "\n",
        "\n",
        "# Builds the DAG (comment if input_shape was already provided to the first layer)\n",
        "cnn5.build(input_shape)\n",
        "\n",
        "\n",
        "cnn5.summary()  \n",
        "\n",
        "# Start Time\n",
        "start = time.time()\n",
        "\n",
        "\n",
        "cnn5.compile(loss=CategoricalCrossentropy(),\n",
        "             optimizer=optimizers.Adam(learning_rate=learning_rate),  \n",
        "             metrics=[CategoricalAccuracy(name='accuracy'), Precision(name='precision'), Recall(name='recall'), AUC(name='AUC')])\n",
        "\n",
        "# Model training\n",
        "history5 = cnn5.fit(ds_train_balanced, \n",
        "                      epochs=epochs, \n",
        "                      callbacks=[early_stop],\n",
        "                      validation_data=ds_val)\n",
        "\n",
        "# Measure the end time\n",
        "print(\"Training time: {:.4f}s\".format(time.time() - start))\n",
        "\n",
        "\n",
        "df_hist1 = pd.DataFrame.from_dict(history5.history)\n",
        "df_hist1[\"Epoch\"] = np.arange(1, len(df_hist1) + 1, 1)\n",
        "# Plot learning curves\n",
        "secondary_y = [\"accuracy\", \"val_accuracy\"]\n",
        "ax = df_hist1.plot(x=\"Epoch\", y=['loss', 'val_loss'] + secondary_y,\n",
        "                   secondary_y = secondary_y,\n",
        "                   kind=\"line\", figsize=(6, 3), grid=True, legend=True,\n",
        "                   ylabel=\"Binary cross-entropy\", \n",
        "                   xlabel=\"Epoch\", title=\"Learning curves\",                  \n",
        "                   color=['darkred', 'indianred', \"darkblue\", \"royalblue\"], alpha=0.75, fontsize=10)\n",
        "ax.right_ax.set_ylabel(\"Accuracy\")\n",
        "ax.right_ax.legend(loc=(0.25, -0.45), framealpha=1.0)\n",
        "ax.legend(loc=(0, -0.45), framealpha=1.0)\n",
        "plt.show()"
      ]
    },
    {
      "cell_type": "markdown",
      "source": [
        "Basic model 6"
      ],
      "metadata": {
        "id": "mFemQCkYf4cm"
      }
    },
    {
      "cell_type": "code",
      "execution_count": null,
      "metadata": {
        "id": "f-NR_K2SfPBg"
      },
      "outputs": [],
      "source": [
        "#Model 6 - balanced dataset \n",
        "#kernel_size=(5, 5), layers.Flatten()\n",
        "                               \n",
        "# Architecture v1\n",
        "cnn6 = Sequential([\n",
        "                   layers.BatchNormalization(),\n",
        "                   \n",
        "                   layers.Conv2D(filters=256, kernel_size=(5, 5), strides=(2, 2),  padding='valid', kernel_initializer=initializers.GlorotNormal(seed=seed),kernel_regularizer=l2(1e-4), bias_regularizer=l2(1e-4)), layers.Activation(\"relu\"),\n",
        "                   layers.MaxPooling2D(pool_size=(2, 2)),\n",
        "                   \n",
        "                   layers.Conv2D(filters=512, kernel_size=(5, 5), strides=(2, 2), padding='valid', kernel_initializer=initializers.GlorotNormal(seed=seed),kernel_regularizer=l2(1e-4), bias_regularizer=l2(1e-4)), layers.Activation(\"relu\"),\n",
        "                   layers.GlobalMaxPooling2D(),\n",
        "\n",
        "                   layers.Flatten(),\n",
        "                   \n",
        "                   layers.Dense(units=7,  activation=\"softmax\", kernel_initializer=initializers.GlorotNormal(seed=seed))])\n",
        "\n",
        "# Builds the DAG (comment if input_shape was already provided to the first layer)\n",
        "cnn6.build(input_shape)\n",
        "\n",
        "\n",
        "cnn6.summary()  \n",
        "\n",
        "# Start Time\n",
        "start = time.time()\n",
        "\n",
        "\n",
        "cnn6.compile(loss=CategoricalCrossentropy(),\n",
        "             optimizer=optimizers.Adam(learning_rate=learning_rate),  \n",
        "             metrics=[CategoricalAccuracy(name='accuracy'), Precision(name='precision'), Recall(name='recall'), AUC(name='AUC')])\n",
        "\n",
        "# Model training\n",
        "history6 = cnn6.fit(ds_train_balanced, \n",
        "                      epochs=epochs, \n",
        "                      callbacks=[early_stop],\n",
        "                      validation_data=ds_val)\n",
        "\n",
        "# Measure the end time\n",
        "print(\"Training time: {:.4f}s\".format(time.time() - start))\n",
        "\n",
        "\n",
        "df_hist1 = pd.DataFrame.from_dict(history6.history)\n",
        "df_hist1[\"Epoch\"] = np.arange(1, len(df_hist1) + 1, 1)\n",
        "# Plot learning curves\n",
        "secondary_y = [\"accuracy\", \"val_accuracy\"]\n",
        "ax = df_hist1.plot(x=\"Epoch\", y=['loss', 'val_loss'] + secondary_y,\n",
        "                   secondary_y = secondary_y,\n",
        "                   kind=\"line\", figsize=(6, 3), grid=True, legend=True,\n",
        "                   ylabel=\"Binary cross-entropy\", \n",
        "                   xlabel=\"Epoch\", title=\"Learning curves\",                  \n",
        "                   color=['darkred', 'indianred', \"darkblue\", \"royalblue\"], alpha=0.75, fontsize=10)\n",
        "ax.right_ax.set_ylabel(\"Accuracy\")\n",
        "ax.right_ax.legend(loc=(0.25, -0.45), framealpha=1.0)\n",
        "ax.legend(loc=(0, -0.45), framealpha=1.0)\n",
        "plt.show()"
      ]
    },
    {
      "cell_type": "markdown",
      "source": [
        "Basic model 7"
      ],
      "metadata": {
        "id": "t6jODMOtgdAk"
      }
    },
    {
      "cell_type": "code",
      "execution_count": null,
      "metadata": {
        "id": "W3nrvoz6iFYX"
      },
      "outputs": [],
      "source": [
        "#Model 7 - balanced dataset \n",
        "#added more convolutional layers\n",
        "                \n",
        "# Architecture v1\n",
        "cnn7 = Sequential([\n",
        "                   layers.BatchNormalization(),        \n",
        "                   \n",
        "                   layers.Conv2D(filters=128, kernel_size=(5, 5), strides=(1, 1),  padding='valid', kernel_initializer=initializers.GlorotNormal(seed=seed), kernel_regularizer=l2(1e-4), bias_regularizer=l2(1e-4)), layers.Activation(\"relu\"), layers.MaxPooling2D(pool_size=(2, 2)),\n",
        "\n",
        "                   layers.Conv2D(filters=256, kernel_size=(5, 5), strides=(1, 1), padding='valid', kernel_initializer=initializers.GlorotNormal(seed=seed), kernel_regularizer=l2(1e-4), bias_regularizer=l2(1e-4)), layers.Activation(\"relu\"),  layers.MaxPooling2D(pool_size=(2, 2)),\n",
        "                   \n",
        "                   layers.Conv2D(filters=512, kernel_size=(5, 5), strides=(1, 1), padding='valid', kernel_initializer=initializers.GlorotNormal(seed=seed), kernel_regularizer=l2(1e-4), bias_regularizer=l2(1e-4)), layers.Activation(\"relu\"),  layers.GlobalMaxPooling2D(),                \n",
        "                   \n",
        "                   layers.Flatten(),\n",
        "                   \n",
        "                   layers.Dense(units=7,  activation=\"softmax\", kernel_initializer=initializers.GlorotNormal(seed=seed))])\n",
        "\n",
        "\n",
        "# Builds the DAG (comment if input_shape was already provided to the first layer)\n",
        "cnn7.build(input_shape)\n",
        "\n",
        "\n",
        "cnn7.summary()  \n",
        "\n",
        "# Start Time\n",
        "start = time.time()\n",
        "\n",
        "\n",
        "cnn7.compile(loss=CategoricalCrossentropy(),\n",
        "             optimizer=optimizers.Adam(learning_rate=learning_rate),  \n",
        "             metrics=[CategoricalAccuracy(name='accuracy'), Precision(name='precision'), Recall(name='recall'), AUC(name='AUC')])\n",
        "\n",
        "# Model training\n",
        "history7 = cnn7.fit(ds_train_balanced, \n",
        "                      epochs=epochs, \n",
        "                      callbacks=[early_stop],\n",
        "                      validation_data=ds_val)\n",
        "\n",
        "# Measure the end time\n",
        "print(\"Training time: {:.4f}s\".format(time.time() - start))\n",
        "\n",
        "\n",
        "df_hist1 = pd.DataFrame.from_dict(history7.history)\n",
        "df_hist1[\"Epoch\"] = np.arange(1, len(df_hist1) + 1, 1)\n",
        "# Plot learning curves\n",
        "secondary_y = [\"accuracy\", \"val_accuracy\"]\n",
        "ax = df_hist1.plot(x=\"Epoch\", y=['loss', 'val_loss'] + secondary_y,\n",
        "                   secondary_y = secondary_y,\n",
        "                   kind=\"line\", figsize=(6, 3), grid=True, legend=True,\n",
        "                   ylabel=\"Binary cross-entropy\", \n",
        "                   xlabel=\"Epoch\", title=\"Learning curves\",                  \n",
        "                   color=['darkred', 'indianred', \"darkblue\", \"royalblue\"], alpha=0.75, fontsize=10)\n",
        "ax.right_ax.set_ylabel(\"Accuracy\")\n",
        "ax.right_ax.legend(loc=(0.25, -0.45), framealpha=1.0)\n",
        "ax.legend(loc=(0, -0.45), framealpha=1.0)\n",
        "plt.show()"
      ]
    },
    {
      "cell_type": "markdown",
      "source": [
        "Basic model 8"
      ],
      "metadata": {
        "id": "Y0SSzcm3hA8b"
      }
    },
    {
      "cell_type": "code",
      "execution_count": null,
      "metadata": {
        "id": "aGN4Q9erp7tF"
      },
      "outputs": [],
      "source": [
        "#Model 8 - balanced dataset \n",
        "#removed global max poolling\n",
        "                \n",
        "# Architecture v1\n",
        "cnn8 = Sequential([\n",
        "                   layers.BatchNormalization(),               \n",
        "                   layers.Conv2D(filters=128, kernel_size=(5, 5), strides=(1, 1),  padding='valid', kernel_initializer=initializers.GlorotNormal(seed=seed), kernel_regularizer=\n",
        "                                 l2(1e-4), bias_regularizer=l2(1e-4)), layers.Activation(\"relu\"), layers.MaxPooling2D(pool_size=(2, 2)),\n",
        "\n",
        "                   layers.Conv2D(filters=256, kernel_size=(5, 5), strides=(1, 1), padding='valid', kernel_initializer=initializers.GlorotNormal(seed=seed), kernel_regularizer=l2(1e-4), bias_regularizer=l2(1e-4)), \n",
        "                   layers.Activation(\"relu\"),  layers.MaxPooling2D(pool_size=(2, 2)),\n",
        "\n",
        "                     layers.Conv2D(filters=512, kernel_size=(5, 5), strides=(1, 1), padding='valid', kernel_initializer=initializers.GlorotNormal(seed=seed), kernel_regularizer=l2(1e-4), bias_regularizer=l2(1e-4)),\n",
        "                     layers.Activation(\"relu\"),  layers.MaxPooling2D(pool_size=(2, 2)),       \n",
        "                  \n",
        "                   layers.Flatten(),\n",
        "                   \n",
        "                   layers.Dense(units=7,  activation=\"softmax\", kernel_initializer=initializers.GlorotNormal(seed=seed))])\n",
        "\n",
        "# Builds the DAG (comment if input_shape was already provided to the first layer)\n",
        "cnn8.build(input_shape)\n",
        "\n",
        "\n",
        "cnn8.summary()  \n",
        "\n",
        "\n",
        "# Start Time\n",
        "start = time.time()\n",
        "\n",
        "\n",
        "cnn8.compile(loss=CategoricalCrossentropy(),\n",
        "             optimizer=optimizers.Adam(learning_rate=learning_rate),  \n",
        "             metrics=[CategoricalAccuracy(name='accuracy'), Precision(name='precision'), Recall(name='recall'), AUC(name='AUC')])\n",
        "\n",
        "# Model training\n",
        "history8 = cnn8.fit(ds_train_balanced, \n",
        "                      epochs=epochs, \n",
        "                      callbacks=[early_stop],\n",
        "                      validation_data=ds_val)\n",
        "\n",
        "# Measure the end time\n",
        "print(\"Training time: {:.4f}s\".format(time.time() - start))\n",
        "\n",
        "\n",
        "df_hist1 = pd.DataFrame.from_dict(history8.history)\n",
        "df_hist1[\"Epoch\"] = np.arange(1, len(df_hist1) + 1, 1)\n",
        "\n",
        "# Plot learning curves\n",
        "secondary_y = [\"accuracy\", \"val_accuracy\"]\n",
        "ax = df_hist1.plot(x=\"Epoch\", y=['loss', 'val_loss'] + secondary_y,\n",
        "                   secondary_y = secondary_y,\n",
        "                   kind=\"line\", figsize=(6, 3), grid=True, legend=True,\n",
        "                   ylabel=\"Binary cross-entropy\", \n",
        "                   xlabel=\"Epoch\", title=\"Learning curves\",                  \n",
        "                   color=['darkred', 'indianred', \"darkblue\", \"royalblue\"], alpha=0.75, fontsize=10)\n",
        "ax.right_ax.set_ylabel(\"Accuracy\")\n",
        "ax.right_ax.legend(loc=(0.25, -0.45), framealpha=1.0)\n",
        "ax.legend(loc=(0, -0.45), framealpha=1.0)\n",
        "plt.show()"
      ]
    },
    {
      "cell_type": "markdown",
      "source": [
        "Basic model 9"
      ],
      "metadata": {
        "id": "UbXj8cgIhl0D"
      }
    },
    {
      "cell_type": "code",
      "execution_count": null,
      "metadata": {
        "id": "2yZSZoP0tB3y"
      },
      "outputs": [],
      "source": [
        "#Model 9 - balanced dataset \n",
        "#added more convolutional layers\n",
        "                \n",
        "# Architecture v1\n",
        "cnn9 = Sequential([\n",
        "                   layers.BatchNormalization(),            \n",
        "                   layers.Conv2D(filters=32, kernel_size=(5, 5), strides=(1, 1),  padding='valid', kernel_initializer=initializers.GlorotNormal(seed=seed), \n",
        "                                 kernel_regularizer=l2(1e-4), bias_regularizer=l2(1e-4)), layers.Activation(\"relu\"), layers.MaxPooling2D(pool_size=(2, 2)),\n",
        "                   layers.BatchNormalization(),\n",
        "                   layers.Conv2D(filters=64, kernel_size=(5, 5), strides=(1, 1), padding='valid', kernel_initializer=initializers.GlorotNormal(seed=seed), \n",
        "                                 kernel_regularizer=l2(1e-4), bias_regularizer=l2(1e-4)), layers.Activation(\"relu\"),  layers.MaxPooling2D(pool_size=(2, 2)),\n",
        "                   layers.BatchNormalization(),\n",
        "                   layers.Conv2D(filters=128, kernel_size=(5, 5), strides=(1, 1), padding='valid', kernel_initializer=initializers.GlorotNormal(seed=seed), \n",
        "                                 kernel_regularizer=l2(1e-4), bias_regularizer=l2(1e-4)), layers.Activation(\"relu\"),  layers.GlobalMaxPooling2D(),                           \n",
        "                   layers.Flatten(),\n",
        "                   \n",
        "                   layers.Dense(units=7,  activation=\"softmax\", kernel_initializer=initializers.GlorotNormal(seed=seed))])\n",
        "\n",
        "\n",
        "# Builds the DAG (comment if input_shape was already provided to the first layer)\n",
        "cnn9.build(input_shape)\n",
        "\n",
        "\n",
        "cnn9.summary()  \n",
        "\n",
        "# Start Time\n",
        "start = time.time()\n",
        "\n",
        "\n",
        "cnn9.compile(loss=CategoricalCrossentropy(),\n",
        "             optimizer=optimizers.Adam(learning_rate=learning_rate),  \n",
        "             metrics=[CategoricalAccuracy(name='accuracy'), Precision(name='precision'), Recall(name='recall'), AUC(name='AUC')])\n",
        "\n",
        "# Model training\n",
        "history9 = cnn9.fit(ds_train_balanced, \n",
        "                      epochs=epochs, \n",
        "                      callbacks=[early_stop],\n",
        "                      validation_data=ds_val)\n",
        "\n",
        "# Measure the end time\n",
        "print(\"Training time: {:.4f}s\".format(time.time() - start))\n",
        "\n",
        "\n",
        "df_hist1 = pd.DataFrame.from_dict(history9.history)\n",
        "df_hist1[\"Epoch\"] = np.arange(1, len(df_hist1) + 1, 1)\n",
        "\n",
        "\n",
        "# Plot learning curves\n",
        "secondary_y = [\"accuracy\", \"val_accuracy\"]\n",
        "ax = df_hist1.plot(x=\"Epoch\", y=['loss', 'val_loss'] + secondary_y,\n",
        "                   secondary_y = secondary_y,\n",
        "                   kind=\"line\", figsize=(6, 3), grid=True, legend=True,\n",
        "                   ylabel=\"Binary cross-entropy\", \n",
        "                   xlabel=\"Epoch\", title=\"Learning curves\",                  \n",
        "                   color=['darkred', 'indianred', \"darkblue\", \"royalblue\"], alpha=0.75, fontsize=10)\n",
        "ax.right_ax.set_ylabel(\"Accuracy\")\n",
        "ax.right_ax.legend(loc=(0.25, -0.45), framealpha=1.0)\n",
        "ax.legend(loc=(0, -0.45), framealpha=1.0)\n",
        "plt.show()"
      ]
    },
    {
      "cell_type": "markdown",
      "metadata": {
        "id": "OiGiAjIXhx7y"
      },
      "source": [
        "## Literature models\n",
        "Literature based"
      ]
    },
    {
      "cell_type": "markdown",
      "source": [
        "### AlexNet"
      ],
      "metadata": {
        "id": "WvsXqcaeiknc"
      }
    },
    {
      "cell_type": "markdown",
      "source": [
        "Version 1"
      ],
      "metadata": {
        "id": "vFzxmduki3Ll"
      }
    },
    {
      "cell_type": "code",
      "execution_count": null,
      "metadata": {
        "id": "Tvr4pWwo7hWd"
      },
      "outputs": [],
      "source": [
        "#Model AlexNet version 1 - balanced dataset \n",
        "#no batch normalization\n",
        "\n",
        "AlexNet_modelv1 = Sequential([\n",
        "                            layers.Input(input_shape[1:]),\n",
        "                            layers.Conv2D(filters=32, kernel_size=(5,5), strides= 1,\n",
        "                                                    padding= 'same', activation= 'relu',\n",
        "                                                    input_shape= input_shape,\n",
        "                                                    kernel_initializer= 'he_normal'),\n",
        "                            layers.MaxPooling2D(pool_size=(3,3), strides= (2,2),\n",
        "                                                          padding= 'same', data_format= None),\n",
        "                            \n",
        "                            layers.Conv2D(filters=64, kernel_size=(5,5), strides= 1,\n",
        "                                                    padding= 'same', activation= 'relu',\n",
        "                                                    kernel_initializer= 'he_normal'),\n",
        "\n",
        "                            layers.Conv2D(filters=128, kernel_size=(3,3), strides= 1,\n",
        "                                                    padding= 'same', activation= 'relu',\n",
        "                                                    kernel_initializer= 'he_normal'),\n",
        "                            \n",
        "                            layers.Conv2D(filters=256, kernel_size=(3,3), strides= 1,\n",
        "                                                    padding= 'same', activation= 'relu',\n",
        "                                                    kernel_initializer= 'he_normal'),\n",
        "                            layers.Conv2D(filters=512, kernel_size=(3,3), strides= 1,\n",
        "                                                    padding= 'same', activation= 'relu',\n",
        "                                                    kernel_initializer= 'he_normal'),\n",
        "\n",
        "                            layers.MaxPooling2D(pool_size=(3,3), strides= (2,2),\n",
        "                                                          padding= 'same', data_format= None)])\n",
        "\n",
        "AlexNet_modelv1.add(Flatten())\n",
        "AlexNet_modelv1.add(Dense(4096, activation= 'relu'))\n",
        "AlexNet_modelv1.add(Dense(4096, activation= 'relu'))\n",
        "AlexNet_modelv1.add(Dense(num_classes, activation= 'softmax'))\n",
        "\n",
        "\n",
        "# Check network\n",
        "AlexNet_modelv1.summary()\n",
        "\n",
        "\n",
        "AlexNet_modelv1.compile(loss=\"CategoricalCrossentropy\",\n",
        "             optimizer=optimizers.Adam(learning_rate=learning_rate), \n",
        "            metrics=[CategoricalAccuracy(name='accuracy'),\n",
        "            metrics.AUC(name='AUROC')])\n",
        "\n",
        "\n",
        "# Model training (v1)\n",
        "historyAN1 = AlexNet_modelv1.fit(ds_train_balanced, epochs=epochs, callbacks=[early_stop],  validation_data=ds_val)\n",
        "\n",
        "\n",
        "# Create DataFrame object\n",
        "df_hist1 = pd.DataFrame.from_dict(historyAN1.history)\n",
        "df_hist1[\"Epoch\"] = np.arange(1, len(df_hist1) + 1, 1)\n",
        "\n",
        "\n",
        "# Plot learning curves\n",
        "secondary_y = [\"accuracy\", \"val_accuracy\"]\n",
        "ax = df_hist1.plot(x=\"Epoch\", y=['loss', 'val_loss'] + secondary_y,\n",
        "                   secondary_y = secondary_y,\n",
        "                   kind=\"line\", figsize=(6, 3), grid=True, legend=True,\n",
        "                   ylabel=\"Binary cross-entropy\", \n",
        "                   xlabel=\"Epoch\", title=\"Learning curves\",                  \n",
        "                   color=['darkred', 'indianred', \"darkblue\", \"royalblue\"], alpha=0.75, fontsize=10)\n",
        "ax.right_ax.set_ylabel(\"Accuracy\")\n",
        "ax.right_ax.legend(loc=(0.25, -0.45), framealpha=1.0)\n",
        "ax.legend(loc=(0, -0.45), framealpha=1.0)\n",
        "plt.show()"
      ]
    },
    {
      "cell_type": "markdown",
      "metadata": {
        "id": "QzlyHojk-zu_"
      },
      "source": [
        "Version 2"
      ]
    },
    {
      "cell_type": "code",
      "execution_count": null,
      "metadata": {
        "id": "dcJX-GLn-9dZ"
      },
      "outputs": [],
      "source": [
        "#Model AlexNet version 2 - balanced dataset \n",
        "#with batch normalization after layers\n",
        "\n",
        "AlexNetv21_model_ = Sequential([\n",
        "                            \n",
        "                          layers.Input(input_shape[1:]),\n",
        "                            layers.BatchNormalization(),\n",
        "                            layers.Conv2D(filters=(32), kernel_size=(5,5), kernel_regularizer=regularizers.L2(1e-4), bias_regularizer=regularizers.L2(1e-4), strides= 1,\n",
        "                                                    padding= 'valid', activation= 'relu',\n",
        "                                                    input_shape= input_shape,\n",
        "                                                    kernel_initializer= 'he_normal'),\n",
        "                              \n",
        "                            layers.MaxPooling2D(pool_size=(3,3), strides= (2,2),\n",
        "                                                          padding= 'valid', data_format= None),\n",
        "                            layers.BatchNormalization(),\n",
        "                            layers.Conv2D(filters=64, kernel_size=(5,5), kernel_regularizer=regularizers.L2(1e-4), bias_regularizer=regularizers.L2(1e-4), strides= 1,\n",
        "                                                    padding= 'valid', activation= 'relu',\n",
        "                                                    kernel_initializer= 'he_normal'),\n",
        "                              layers.BatchNormalization(),\n",
        "                            layers.Conv2D(filters=128, kernel_size=(5,5), kernel_regularizer=regularizers.L2(1e-4), bias_regularizer=regularizers.L2(1e-4), strides= 1,\n",
        "                                                    padding= 'valid', activation= 'relu',\n",
        "                                                    kernel_initializer= 'he_normal'),\n",
        "                              layers.BatchNormalization(),\n",
        "                            layers.Conv2D(filters=256, kernel_size=(3,3), kernel_regularizer=regularizers.L2(1e-4), bias_regularizer=regularizers.L2(1e-4), strides= 1,\n",
        "                                                    padding= 'valid', activation= 'relu',\n",
        "                                                    kernel_initializer= 'he_normal'),\n",
        "                              layers.BatchNormalization(),\n",
        "                            layers.Conv2D(filters=512, kernel_size=(3,3), kernel_regularizer=regularizers.L2(1e-4), bias_regularizer=regularizers.L2(1e-4), strides= 1,\n",
        "                                                    padding= 'valid', activation= 'relu',\n",
        "                                                    kernel_initializer= 'he_normal'),\n",
        "                            layers.MaxPooling2D(pool_size=(3,3), strides= (2,2),\n",
        "                                                          padding= 'valid', data_format= None),                       \n",
        "                            ])\n",
        "AlexNetv21_model_.add(Flatten())\n",
        "AlexNetv21_model_.add(Dense(4096, activation= 'relu'))\n",
        "AlexNetv21_model_.add(Dense(4096, activation= 'relu'))\n",
        "AlexNetv21_model_.add(Dense(1000, activation= 'relu'))\n",
        "AlexNetv21_model_.add(Dense(num_classes, activation= 'softmax'))\n",
        "\n",
        "\n",
        "# Check network\n",
        "AlexNetv21_model_.summary()\n",
        "\n",
        "\n",
        "AlexNetv21_model_.compile(loss=\"CategoricalCrossentropy\",\n",
        "             optimizer=optimizers.Adam(learning_rate=learning_rate), \n",
        "            metrics=[CategoricalAccuracy(name='accuracy'),\n",
        "                      Precision(name='precision'),\n",
        "            metrics.AUC(name='AUROC')])\n",
        "\n",
        "\n",
        "# Model training (v2.1)\n",
        "historyANv21 = AlexNetv21_model_.fit(ds_train_balanced, epochs=epochs, callbacks=[early_stop], shuffle=shuffle, validation_data=ds_val)\n",
        "\n",
        "\n",
        "# Create DataFrame object\n",
        "df_hist1 = pd.DataFrame.from_dict(historyANv21.history)\n",
        "df_hist1[\"Epoch\"] = np.arange(1, len(df_hist1) + 1, 1)\n",
        "\n",
        "\n",
        "# Plot learning curves\n",
        "secondary_y = [\"accuracy\", \"val_accuracy\"]\n",
        "ax = df_hist1.plot(x=\"Epoch\", y=['loss', 'val_loss'] + secondary_y,\n",
        "                   secondary_y = secondary_y,\n",
        "                   kind=\"line\", figsize=(6, 3), grid=True, legend=True,\n",
        "                   ylabel=\"Binary cross-entropy\", \n",
        "                   xlabel=\"Epoch\", title=\"Learning curves\",                  \n",
        "                   color=['darkred', 'indianred', \"darkblue\", \"royalblue\"], alpha=0.75, fontsize=10)\n",
        "ax.right_ax.set_ylabel(\"Accuracy\")\n",
        "ax.right_ax.legend(loc=(0.25, -0.45), framealpha=1.0)\n",
        "ax.legend(loc=(0, -0.45), framealpha=1.0)\n",
        "plt.show()"
      ]
    },
    {
      "cell_type": "markdown",
      "metadata": {
        "id": "1wgqt9r8Fq3f"
      },
      "source": [
        "Version 2.2"
      ]
    },
    {
      "cell_type": "code",
      "execution_count": null,
      "metadata": {
        "id": "Qoa_VD7NFq3f"
      },
      "outputs": [],
      "source": [
        "#Model AlexNet version 2.2 - balanced dataset \n",
        "#with batch normalization after layers and no dropout,  different filters values e padding = valid\n",
        "\n",
        "AlexNetv22_model_ = Sequential([\n",
        "                            \n",
        "                          layers.Input(input_shape[1:]),\n",
        "                            layers.BatchNormalization(),\n",
        "                            layers.Conv2D(filters=(96), kernel_size=(5,5), kernel_regularizer=regularizers.L2(1e-4), bias_regularizer=regularizers.L2(1e-4), strides= 1,\n",
        "                                                    padding= 'valid', activation= 'relu',\n",
        "                                                    input_shape= input_shape,\n",
        "                                                    kernel_initializer= 'he_normal'),\n",
        "                              \n",
        "                            layers.MaxPooling2D(pool_size=(3,3), strides= (2,2),\n",
        "                                                          padding= 'valid', data_format= None),\n",
        "                            layers.BatchNormalization(),\n",
        "                            layers.Conv2D(filters=256, kernel_size=(5,5), kernel_regularizer=regularizers.L2(1e-4), bias_regularizer=regularizers.L2(1e-4), strides= 1,\n",
        "                                                    padding= 'valid', activation= 'relu',\n",
        "                                                    kernel_initializer= 'he_normal'),\n",
        "                              layers.BatchNormalization(),\n",
        "                            layers.Conv2D(filters=384, kernel_size=(5,5), kernel_regularizer=regularizers.L2(1e-4), bias_regularizer=regularizers.L2(1e-4), strides= 1,\n",
        "                                                    padding= 'valid', activation= 'relu',\n",
        "                                                    kernel_initializer= 'he_normal'),\n",
        "                              layers.BatchNormalization(),\n",
        "                            layers.Conv2D(filters=384, kernel_size=(3,3), kernel_regularizer=regularizers.L2(1e-4), bias_regularizer=regularizers.L2(1e-4), strides= 1,\n",
        "                                                    padding= 'valid', activation= 'relu',\n",
        "                                                    kernel_initializer= 'he_normal'),\n",
        "                              layers.BatchNormalization(),\n",
        "                            layers.Conv2D(filters=256, kernel_size=(3,3), kernel_regularizer=regularizers.L2(1e-4), bias_regularizer=regularizers.L2(1e-4), strides= 1,\n",
        "                                                    padding= 'valid', activation= 'relu',\n",
        "                                                    kernel_initializer= 'he_normal'),\n",
        "                            layers.MaxPooling2D(pool_size=(3,3), strides= (2,2),\n",
        "                                                          padding= 'valid', data_format= None),                  \n",
        "                            ])\n",
        "\n",
        "AlexNetv22_model_.add(Flatten())\n",
        "AlexNetv22_model_.add(Dense(4096, activation= 'relu'))\n",
        "AlexNetv22_model_.add(Dense(4096, activation= 'relu'))\n",
        "AlexNetv22_model_.add(Dense(1000, activation= 'relu'))\n",
        "AlexNetv22_model_.add(Dense(num_classes, activation= 'softmax'))\n",
        "\n",
        "\n",
        "AlexNetv22_model_.summary() \n",
        "\n",
        "\n",
        "AlexNetv22_model_.compile(loss=\"CategoricalCrossentropy\",\n",
        "             optimizer=optimizers.Adam(learning_rate=learning_rate), \n",
        "            metrics=[CategoricalAccuracy(name='accuracy'),\n",
        "                      Precision(name='precision'),\n",
        "            metrics.AUC(name='AUROC')])\n",
        "\n",
        "\n",
        "# Model training (v2.2)\n",
        "historyANv22 = AlexNetv22_model_.fit(ds_train_balanced, epochs=epochs, callbacks=[early_stop], shuffle=shuffle, validation_data=ds_val)\n",
        "\n",
        "\n",
        "# Create DataFrame object\n",
        "df_hist1 = pd.DataFrame.from_dict(historyANv22.history)\n",
        "df_hist1[\"Epoch\"] = np.arange(1, len(df_hist1) + 1, 1)\n",
        "\n",
        "\n",
        "# Plot learning curves\n",
        "secondary_y = [\"accuracy\", \"val_accuracy\"]\n",
        "ax = df_hist1.plot(x=\"Epoch\", y=['loss', 'val_loss'] + secondary_y,\n",
        "                   secondary_y = secondary_y,\n",
        "                   kind=\"line\", figsize=(6, 3), grid=True, legend=True,\n",
        "                   ylabel=\"Binary cross-entropy\", \n",
        "                   xlabel=\"Epoch\", title=\"Learning curves\",                  \n",
        "                   color=['darkred', 'indianred', \"darkblue\", \"royalblue\"], alpha=0.75, fontsize=10)\n",
        "ax.right_ax.set_ylabel(\"Accuracy\")\n",
        "ax.right_ax.legend(loc=(0.25, -0.45), framealpha=1.0)\n",
        "ax.legend(loc=(0, -0.45), framealpha=1.0)\n",
        "plt.show()"
      ]
    },
    {
      "cell_type": "markdown",
      "metadata": {
        "id": "C7d0N8UfPcir"
      },
      "source": [
        "Version 3"
      ]
    },
    {
      "cell_type": "code",
      "execution_count": null,
      "metadata": {
        "id": "DZl86zGPPcis"
      },
      "outputs": [],
      "source": [
        "#Model AlexNet version 3 - balanced dataset \n",
        "#with ds_train_balanced and 50 epochs and dropout and and 3 fully connected layers added and with shuffle\n",
        "\n",
        "AlexNetv31_model_ = Sequential([\n",
        "                            \n",
        "                          layers.Input(input_shape[1:]),\n",
        "                            layers.BatchNormalization(),\n",
        "                            # Add the first convolutional layer\n",
        "                            layers.Conv2D(filters=(96), kernel_size=(5,5),  kernel_regularizer=regularizers.L2(1e-4), bias_regularizer=regularizers.L2(1e-4), strides= 1,\n",
        "                                                    padding= 'same', activation= 'relu',\n",
        "                                                    input_shape= input_shape,\n",
        "                                                    kernel_initializer= 'he_normal'),\n",
        "                              # Add the first max pooling layer\n",
        "                            layers.MaxPooling2D(pool_size=(3,3), strides= (2,2),\n",
        "                                                          padding= 'same', data_format= None),\n",
        "                              layers.BatchNormalization(),\n",
        "                              # Add the second convolutional layer\n",
        "                            layers.Conv2D(filters=256, kernel_size=(5,5), kernel_regularizer=regularizers.L2(1e-4), bias_regularizer=regularizers.L2(1e-4), strides= 1,\n",
        "                                                    padding= 'same', activation= 'relu',\n",
        "                                                    kernel_initializer= 'he_normal'),\n",
        "                              layers.BatchNormalization(),\n",
        "                              # Add the third convolutional layer\n",
        "                            layers.Conv2D(filters=384, kernel_size=(5,5), kernel_regularizer=regularizers.L2(1e-4), bias_regularizer=regularizers.L2(1e-4), strides= 1,\n",
        "                                                    padding= 'same', activation= 'relu',\n",
        "                                                    kernel_initializer= 'he_normal'),\n",
        "                              layers.BatchNormalization(),\n",
        "                              # Add the fourth convolutional layer\n",
        "                            layers.Conv2D(filters=384, kernel_size=(3,3), kernel_regularizer=regularizers.L2(1e-4), bias_regularizer=regularizers.L2(1e-4), strides= 1,\n",
        "                                                    padding= 'same', activation= 'relu',\n",
        "                                                    kernel_initializer= 'he_normal'),\n",
        "                              layers.BatchNormalization(),\n",
        "                              # Add the fifth convolutional layer\n",
        "                            layers.Conv2D(filters=256, kernel_size=(3,3), kernel_regularizer=regularizers.L2(1e-4), bias_regularizer=regularizers.L2(1e-4), strides= 1,\n",
        "                                                    padding= 'same', activation= 'relu',\n",
        "                                                    kernel_initializer= 'he_normal'),\n",
        "                              # Add the second max pooling layer\n",
        "                            layers.MaxPooling2D(pool_size=(3,3), strides= (2,2),\n",
        "                                                          padding= 'same', data_format= None)                         \n",
        "                            ])\n",
        "\n",
        "AlexNetv31_model_.add(Flatten()) # Flatten the output from the convolutional layers\n",
        "AlexNetv31_model_.add(Dense(4096, activation= 'relu')) # Add the first fully connected layer\n",
        "AlexNetv31_model_.add(Dense(4096, activation= 'relu')) # Add the second fully connected layer\n",
        "AlexNetv31_model_.add(Dense(1000, activation= 'relu'))\n",
        "AlexNetv31_model_.add(Dense(num_classes, activation= 'softmax')) # Add the final output layer\n",
        "\n",
        "\n",
        "# Check network\n",
        "AlexNetv31_model_.summary()\n",
        "\n",
        "\n",
        "AlexNetv31_model_.compile(loss=\"CategoricalCrossentropy\",\n",
        "             optimizer=optimizers.Adam(learning_rate=learning_rate), \n",
        "            metrics=[CategoricalAccuracy(name='accuracy'),\n",
        "                      Precision(name='precision'),\n",
        "            metrics.AUC(name='AUROC')])\n",
        "\n",
        "# Model training (v3)\n",
        "historyANv31 = AlexNetv31_model_.fit(ds_train_balanced, epochs=epochs, callbacks=[early_stop], shuffle=shuffle, validation_data=ds_val)\n",
        "\n",
        "\n",
        "# Create DataFrame object\n",
        "df_histANv3 = pd.DataFrame.from_dict(historyANv31.history)\n",
        "df_histANv3[\"Epoch\"] = np.arange(1, len(df_histANv3) + 1, 1)\n",
        "\n",
        "\n",
        "# Plot learning curves\n",
        "secondary_y = [\"accuracy\", \"val_accuracy\"]\n",
        "ax = df_histANv3.plot(x=\"Epoch\", y=['loss', 'val_loss'] + secondary_y,\n",
        "                   secondary_y = secondary_y,\n",
        "                   kind=\"line\", figsize=(6, 3), grid=True, legend=True,\n",
        "                   ylabel=\"Binary cross-entropy\", \n",
        "                   xlabel=\"Epoch\", title=\"Learning curves\",                  \n",
        "                   color=['darkred', 'indianred', \"darkblue\", \"royalblue\"], alpha=0.75, fontsize=10)\n",
        "ax.right_ax.set_ylabel(\"Accuracy\")\n",
        "ax.right_ax.legend(loc=(0.25, -0.45), framealpha=1.0)\n",
        "ax.legend(loc=(0, -0.45), framealpha=1.0)\n",
        "plt.show()"
      ]
    },
    {
      "cell_type": "markdown",
      "metadata": {
        "id": "mN_iHX3O_uu9"
      },
      "source": [
        "### VGG16"
      ]
    },
    {
      "cell_type": "markdown",
      "source": [
        "Version 1"
      ],
      "metadata": {
        "id": "LiCervnqmOqn"
      }
    },
    {
      "cell_type": "code",
      "execution_count": null,
      "metadata": {
        "id": "-uFs8-TOFvsO"
      },
      "outputs": [],
      "source": [
        "#Model VGG16 version 1 -\n",
        "\n",
        "#Build model\n",
        "VGGv1_model = Sequential([\n",
        "\n",
        "          layers.Input(input_shape[1:]),   \n",
        "\n",
        "          layers.Conv2D(filters=48, kernel_size=(3, 3), strides=(1,1), activation='relu', padding='same', input_shape=input_shape),\n",
        "          layers.Conv2D(filters=48, kernel_size=(3, 3), strides=(1,1), activation='relu', padding='same'),\n",
        "          layers.MaxPooling2D(pool_size=(2, 2),strides=2),\n",
        "\n",
        "          layers.Conv2D(filters=96, kernel_size=(3, 3), strides=(1,1), activation='relu', padding='same'),\n",
        "          layers.Conv2D(filters=96, kernel_size=(3, 3), strides=(1,1), activation='relu', padding='same'),\n",
        "          layers.MaxPooling2D(pool_size=(2, 2),strides=2),\n",
        "\n",
        "          layers.Conv2D(filters=144, kernel_size=(3, 3), strides=(1,1), activation='relu', padding='same'),\n",
        "          layers.Conv2D(filters=144, kernel_size=(3, 3), strides=(1,1), activation='relu', padding='same'),\n",
        "          layers.Conv2D(filters=144, kernel_size=(3, 3), strides=(1,1), activation='relu', padding='same'),\n",
        "          layers.MaxPooling2D(pool_size=(2, 2),strides=2),\n",
        "\n",
        "          layers.Conv2D(filters=192, kernel_size=(3, 3), strides=(1,1), activation='relu', padding='same'),\n",
        "          layers.Conv2D(filters=192, kernel_size=(3, 3), strides=(1,1), activation='relu', padding='same'),\n",
        "          layers.Conv2D(filters=192, kernel_size=(3, 3), strides=(1,1), activation='relu', padding='same'),\n",
        "          layers.MaxPooling2D(pool_size=(2, 2),strides=2),\n",
        "\n",
        "          layers.Conv2D(filters=192, kernel_size=(3, 3), strides=(1,1), activation='relu', padding='same'),\n",
        "          layers.Conv2D(filters=192, kernel_size=(3, 3), strides=(1,1), activation='relu', padding='same'),\n",
        "          layers.Conv2D(filters=192, kernel_size=(3, 3), strides=(1,1), activation='relu', padding='same'),\n",
        "          layers.MaxPooling2D(pool_size=(2, 2),strides=2)])\n",
        "\n",
        "# MLP - input layer:\n",
        "VGGv1_model.add(Flatten())\n",
        "\n",
        "# MLP - hidden layer:\n",
        "VGGv1_model.add(Dense(3072, activation='relu'))\n",
        "\n",
        "# MLP - hidden layer:\n",
        "VGGv1_model.add(Dense(3072, activation='relu'))\n",
        "\n",
        "VGGv1_model.add(Dense(7, activation='softmax')) \n",
        "\n",
        "# Check built model:\n",
        "VGGv1_model.summary()\n",
        "\n",
        "\n",
        "VGGv1_model.compile(loss=\"binary_crossentropy\",\n",
        "             optimizer=optimizers.Adam(learning_rate=learning_rate),  \n",
        "             metrics=[metrics.BinaryAccuracy(name='accuracy'),\n",
        "                      metrics.AUC(name='AUROC')])\n",
        "\n",
        "# Model training (v1)\n",
        "historyVGGv1 = VGGv1_model.fit(ds_train_balanced, epochs=epochs, callbacks=[early_stop], shuffle=shuffle, validation_data=ds_val)\n",
        "\n",
        "# Create DataFrame object\n",
        "df_histVGGv1 = pd.DataFrame.from_dict(historyVGGv1.history)\n",
        "df_histVGGv1[\"Epoch\"] = np.arange(1, len(df_histVGGv1) + 1, 1)\n",
        "\n",
        "\n",
        "# Plot learning curves\n",
        "secondary_y = [\"accuracy\", \"val_accuracy\"]\n",
        "ax = df_histVGGv1.plot(x=\"Epoch\", y=['loss', 'val_loss'] + secondary_y,\n",
        "                   secondary_y = secondary_y,\n",
        "                   kind=\"line\", figsize=(6, 3), grid=True, legend=True,\n",
        "                   ylabel=\"Binary cross-entropy\", \n",
        "                   xlabel=\"Epoch\", title=\"Learning curves\",                  \n",
        "                   color=['darkred', 'indianred', \"darkblue\", \"royalblue\"], alpha=0.75, fontsize=10)\n",
        "ax.right_ax.set_ylabel(\"Accuracy\")\n",
        "ax.right_ax.legend(loc=(0.25, -0.45), framealpha=1.0)\n",
        "ax.legend(loc=(0, -0.45), framealpha=1.0)\n",
        "plt.show()"
      ]
    },
    {
      "cell_type": "code",
      "source": [
        "# versao 2\n",
        "input_shape = batch_x_train.shape    # NOVO\n",
        "num_classes = 7  # NOVO\n",
        "\n",
        "early_stop = EarlyStopping(patience=patience, monitor='val_loss', mode='min', restore_best_weights=True)     # NOVO\n",
        "\n",
        "VGG16_orig = Sequential([\n",
        "\n",
        "          layers.Input(input_shape[1:]),    # NOVO\n",
        "          layers.BatchNormalization(),   ##### The batch normalization layer ## \n",
        "\n",
        "          layers.Conv2D(filters=48, kernel_size=(3, 3), strides=(1,1), activation='relu', padding='same', input_shape=input_shape),\n",
        "          layers.Conv2D(filters=48, kernel_size=(3, 3), strides=(1,1), activation='relu', padding='same'),\n",
        "          layers.MaxPooling2D(pool_size=(2, 2),strides=2),\n",
        "\n",
        "          layers.Conv2D(filters=96, kernel_size=(3, 3), strides=(1,1), activation='relu', padding='same'),\n",
        "          layers.Conv2D(filters=96, kernel_size=(3, 3), strides=(1,1), activation='relu', padding='same'),\n",
        "          layers.MaxPooling2D(pool_size=(2, 2),strides=2),\n",
        "\n",
        "          layers.Conv2D(filters=144, kernel_size=(3, 3), strides=(1,1), activation='relu', padding='same'),\n",
        "          layers.Conv2D(filters=144, kernel_size=(3, 3), strides=(1,1), activation='relu', padding='same'),\n",
        "          layers.Conv2D(filters=144, kernel_size=(3, 3), strides=(1,1), activation='relu', padding='same'),\n",
        "          layers.MaxPooling2D(pool_size=(2, 2),strides=2),\n",
        "\n",
        "          layers.Conv2D(filters=192, kernel_size=(3, 3), strides=(1,1), activation='relu', padding='same'),\n",
        "          layers.Conv2D(filters=192, kernel_size=(3, 3), strides=(1,1), activation='relu', padding='same'),\n",
        "          layers.Conv2D(filters=192, kernel_size=(3, 3), strides=(1,1), activation='relu', padding='same'),\n",
        "          layers.MaxPooling2D(pool_size=(2, 2),strides=2),\n",
        "\n",
        "          layers.Conv2D(filters=192, kernel_size=(3, 3), strides=(1,1), activation='relu', padding='same'),\n",
        "          layers.Conv2D(filters=192, kernel_size=(3, 3), strides=(1,1), activation='relu', padding='same'),\n",
        "          layers.Conv2D(filters=192, kernel_size=(3, 3), strides=(1,1), activation='relu', padding='same'),\n",
        "          layers.MaxPooling2D(pool_size=(2, 2),strides=2)])\n",
        "\n",
        "# MLP - input layer:\n",
        "VGG16_orig.add(Flatten())\n",
        "\n",
        "# MLP - hidden layer:\n",
        "VGG16_orig.add(Dense(3072, activation='relu'))\n",
        "\n",
        "# MLP - hidden layer:\n",
        "VGG16_orig.add(Dense(3072, activation='relu'))\n",
        "\n",
        "VGG16_orig.add(Dropout(0.5))\n",
        "\n",
        "# MLP - output layer:\n",
        "VGG16_orig.add(Dense(7, activation='softmax')) \n",
        "\n",
        "\n",
        "# Check built model:\n",
        "VGG16_orig.summary()\n",
        "\n",
        "learning_rate = 0.001  # 0.001 <=> 1e-3\n",
        "VGG16_orig.compile(loss=\"CategoricalCrossentropy\",\n",
        "             optimizer=optimizers.Adam(learning_rate=learning_rate), \n",
        "            metrics=[CategoricalAccuracy(name='accuracy'),\n",
        "                      Precision(name='precision'),\n",
        "                      #Recall(name='recall'),\n",
        "            metrics.AUC(name='AUROC')])\n",
        "\n",
        "# Model training (v1)\n",
        "epochs = 15\n",
        "historVGG16 = VGG16_orig.fit(ds_train_balanced, epochs=epochs, callbacks=[early_stop], class_weight = class_weights, validation_data=ds_val)\n",
        "\n",
        "\n",
        "# Create DataFrame object\n",
        "df_VGG16_orig = pd.DataFrame.from_dict(historyVGGv1.history)\n",
        "df_VGG16_orig[\"Epoch\"] = np.arange(1, len(df_VGG16_orig) + 1, 1)\n",
        "\n",
        "\n",
        "# Plot learning curves\n",
        "secondary_y = [\"accuracy\", \"val_accuracy\"]\n",
        "ax = df_VGG16_orig.plot(x=\"Epoch\", y=['loss', 'val_loss'] + secondary_y,\n",
        "                   secondary_y = secondary_y,\n",
        "                   kind=\"line\", figsize=(6, 3), grid=True, legend=True,\n",
        "                   ylabel=\"Binary cross-entropy\", \n",
        "                   xlabel=\"Epoch\", title=\"Learning curves\",                  \n",
        "                   color=['darkred', 'indianred', \"darkblue\", \"royalblue\"], alpha=0.75, fontsize=10)\n",
        "ax.right_ax.set_ylabel(\"Accuracy\")\n",
        "ax.right_ax.legend(loc=(0.25, -0.45), framealpha=1.0)\n",
        "ax.legend(loc=(0, -0.45), framealpha=1.0)\n",
        "plt.show()"
      ],
      "metadata": {
        "id": "gkllDeauzVwz"
      },
      "execution_count": null,
      "outputs": []
    },
    {
      "cell_type": "markdown",
      "metadata": {
        "id": "Lnl-6Tg2lI43"
      },
      "source": [
        "#6.Validation methods"
      ]
    },
    {
      "cell_type": "markdown",
      "metadata": {
        "id": "Pw0kTRjNnInP"
      },
      "source": [
        "### Confusion Matrix"
      ]
    },
    {
      "cell_type": "code",
      "source": [
        "def plot_confusion_matrix(model, normalize=False, title='Confusion matrix'):\n",
        "  \n",
        "    classes= class_labels\n",
        "\n",
        "    predictions = model.predict(ds_test)\n",
        "    y_preds = np.argmax(predictions , axis = 1)\n",
        "    labels = np.argmax(batch_y_test.numpy() , axis = 1)\n",
        "    conf_matrix = confusion_matrix(labels, y_preds)\n",
        "\n",
        "    cmn = conf_matrix.astype('float') / conf_matrix.sum(axis=1)[:, np.newaxis]\n",
        "    fig, ax = plt.subplots(figsize=(10,10))\n",
        "    sns.heatmap(cmn, annot=True, fmt='.1%', xticklabels=classes, yticklabels=classes)\n",
        "\n",
        "    cbar = ax.collections[0].colorbar\n",
        "    cbar.set_ticks([0, .1, .2, .3, .4, .5, .6, .7, .8, .9, 1])\n",
        "    cbar.set_ticklabels(['0%', '10%', '20%', '30%', '40%', '50%', '60%', '70%', '80%', '90%', '100%'])\n",
        "\n",
        "    plt.ylabel('True data')\n",
        "    plt.xlabel('Predicted data')\n",
        "    plt.title(title)\n",
        "\n",
        "    tick_marks = np.arange(len(classes))\n",
        "    plt.xticks(tick_marks, classes, rotation=45) \n",
        "    plt.yticks(tick_marks, classes)\n",
        "\n",
        "    plt.show()"
      ],
      "metadata": {
        "id": "CC4CekBTGkd0"
      },
      "execution_count": null,
      "outputs": []
    },
    {
      "cell_type": "code",
      "source": [
        "#confusion matrix for Basic model version 9\n",
        "plot_confusion_matrix(cnn9)"
      ],
      "metadata": {
        "colab": {
          "base_uri": "https://localhost:8080/",
          "height": 664
        },
        "id": "jDvhjC5UGqHN",
        "outputId": "d65ab0a5-02a3-41d5-af15-9cb302f5733c"
      },
      "execution_count": null,
      "outputs": [
        {
          "output_type": "stream",
          "name": "stdout",
          "text": [
            "1/1 [==============================] - 3s 3s/step\n"
          ]
        },
        {
          "output_type": "display_data",
          "data": {
            "text/plain": [
              "<Figure size 720x720 with 2 Axes>"
            ],
            "image/png": "[encoded data removed]"
          },
          "metadata": {
            "needs_background": "light"
          }
        }
      ]
    },
    {
      "cell_type": "code",
      "source": [
        "#confusion matrix for AlexNet model version 2.2\n",
        "plot_confusion_matrix(AlexNetv22_model_)"
      ],
      "metadata": {
        "colab": {
          "base_uri": "https://localhost:8080/",
          "height": 702
        },
        "id": "Q5wgamTBMPKY",
        "outputId": "2b45efa6-4e94-404a-9fb9-d15f0a8af27f"
      },
      "execution_count": null,
      "outputs": [
        {
          "output_type": "stream",
          "name": "stderr",
          "text": [
            "WARNING:tensorflow:5 out of the last 6 calls to <function Model.make_predict_function.<locals>.predict_function at 0x7f7acc721a60> triggered tf.function retracing. Tracing is expensive and the excessive number of tracings could be due to (1) creating @tf.function repeatedly in a loop, (2) passing tensors with different shapes, (3) passing Python objects instead of tensors. For (1), please define your @tf.function outside of the loop. For (2), @tf.function has reduce_retracing=True option that can avoid unnecessary retracing. For (3), please refer to https://www.tensorflow.org/guide/function#controlling_retracing and https://www.tensorflow.org/api_docs/python/tf/function for  more details.\n"
          ]
        },
        {
          "output_type": "stream",
          "name": "stdout",
          "text": [
            "1/1 [==============================] - 15s 15s/step\n"
          ]
        },
        {
          "output_type": "display_data",
          "data": {
            "text/plain": [
              "<Figure size 720x720 with 2 Axes>"
            ],
            "image/png": "[encoded data removed]"
          },
          "metadata": {
            "needs_background": "light"
          }
        }
      ]
    }
  ],
  "metadata": {
    "accelerator": "GPU",
    "colab": {
      "provenance": []
    },
    "gpuClass": "standard",
    "kernelspec": {
      "display_name": "Python 3",
      "name": "python3"
    },
    "language_info": {
      "name": "python"
    }
  },
  "nbformat": 4,
  "nbformat_minor": 0
}